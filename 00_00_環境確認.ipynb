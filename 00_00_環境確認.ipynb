{
  "nbformat": 4,
  "nbformat_minor": 0,
  "metadata": {
    "colab": {
      "name": "00_00_環境確認.ipynb",
      "provenance": [],
      "authorship_tag": "ABX9TyMTadEInjro64iDrNfWMUKQ",
      "include_colab_link": true
    },
    "kernelspec": {
      "name": "python3",
      "display_name": "Python 3"
    }
  },
  "cells": [
    {
      "cell_type": "markdown",
      "metadata": {
        "id": "view-in-github",
        "colab_type": "text"
      },
      "source": [
        "<a href=\"https://colab.research.google.com/github/hamagami/anomaly-detection/blob/main/00_00_%E7%92%B0%E5%A2%83%E7%A2%BA%E8%AA%8D.ipynb\" target=\"_parent\"><img src=\"https://colab.research.google.com/assets/colab-badge.svg\" alt=\"Open In Colab\"/></a>"
      ]
    },
    {
      "cell_type": "markdown",
      "metadata": {
        "id": "y9IWyBasqAjA"
      },
      "source": [
        "# Google Colab から Githubから ipynbファイルを読みこみ実行するテスト"
      ]
    },
    {
      "cell_type": "code",
      "metadata": {
        "id": "5sukD9mwp91R"
      },
      "source": [
        "import numpy as np\r\n",
        "import matplotlib.pyplot as plt"
      ],
      "execution_count": null,
      "outputs": []
    },
    {
      "cell_type": "code",
      "metadata": {
        "scrolled": true,
        "id": "K0G5ysD38TZf"
      },
      "source": [
        "dnum=1000\n",
        "mean = np.array([0, 0]) # 平均\n",
        "cov = np.array([[1, 0.7],[0.7, 2]]) # 共分散行列 \n",
        "x, y = np.random.multivariate_normal(mean, cov, dnum).T #多変量正規分布に従う乱数を生成\n",
        "plt.xlim(-5,5)\n",
        "plt.ylim(-5,5)\n",
        "plt.plot(x,y,\"x\")\n",
        "plt.show()"
      ],
      "execution_count": null,
      "outputs": []
    },
    {
      "cell_type": "code",
      "metadata": {
        "id": "8sYqxMdTq-2q"
      },
      "source": [
        ""
      ],
      "execution_count": null,
      "outputs": []
    }
  ]
}