{
  "nbformat": 4,
  "nbformat_minor": 0,
  "metadata": {
    "colab": {
      "name": "00_00_環境確認.ipynb",
      "provenance": [],
      "toc_visible": true,
      "authorship_tag": "ABX9TyM82lkKoE4Hwo18IWw2DqxN",
      "include_colab_link": true
    },
    "kernelspec": {
      "name": "python3",
      "display_name": "Python 3"
    }
  },
  "cells": [
    {
      "cell_type": "markdown",
      "metadata": {
        "id": "view-in-github",
        "colab_type": "text"
      },
      "source": [
        "<a href=\"https://colab.research.google.com/github/hamagami/anomaly-detection/blob/main/00_00_%E7%92%B0%E5%A2%83%E7%A2%BA%E8%AA%8D.ipynb\" target=\"_parent\"><img src=\"https://colab.research.google.com/assets/colab-badge.svg\" alt=\"Open In Colab\"/></a>"
      ]
    },
    {
      "cell_type": "markdown",
      "metadata": {
        "id": "y9IWyBasqAjA"
      },
      "source": [
        "# Google Colab から Githubから ipynbファイルを読みこみ実行するテスト"
      ]
    },
    {
      "cell_type": "markdown",
      "metadata": {
        "id": "7MFLy2nFr7G6"
      },
      "source": [
        "各セルを実行するには 右側の▶マークを押すか，shiftキーを押しながらEnter　です。すべてのセルを実行する場合はランタイムから「すべてのセルを実行」とします。\r\n",
        "ページを読みこんだあと，最初のセルを実行する場合は「警告: このノートブックは Google が作成したものではありません。」とでてきますが，「そのまま実行」を押してもらえば結構です。\r\n",
        "セルの実行を途中で止めるには，セルの右側にある回っているマークを押すか，ランタイムから「実行を中断」を押してください。\r\n",
        "複数のcolabを同時に動かしてい[リンクテキスト](https://)ると，「セッションが多すぎます」とでる場合があります。そのときは「セッションを管理」ボタンを押して使用していないセッションを切ってください。"
      ]
    },
    {
      "cell_type": "code",
      "metadata": {
        "id": "5sukD9mwp91R"
      },
      "source": [
        "import numpy as np\r\n",
        "import matplotlib.pyplot as plt"
      ],
      "execution_count": null,
      "outputs": []
    },
    {
      "cell_type": "code",
      "metadata": {
        "scrolled": true,
        "id": "K0G5ysD38TZf"
      },
      "source": [
        "dnum=1000\n",
        "mean = np.array([0, 0]) # 平均\n",
        "cov = np.array([[1, 0.7],[0.7, 2]]) # 共分散行列 \n",
        "x, y = np.random.multivariate_normal(mean, cov, dnum).T #多変量正規分布に従う乱数を生成\n",
        "plt.xlim(-5,5)\n",
        "plt.ylim(-5,5)\n",
        "plt.plot(x,y,\"x\")\n",
        "plt.show()"
      ],
      "execution_count": null,
      "outputs": []
    },
    {
      "cell_type": "code",
      "metadata": {
        "id": "8sYqxMdTq-2q"
      },
      "source": [
        "!wget https://dl.dropbox.com/s/xqpcpncceajkjkj/2016-06-14_Orange_and_white_tabby_cat_born_in_2016_%E8%8C%B6%E3%83%88%E3%83%A9%E7%99%BD%E3%81%AD%E3%81%93_DSCF6526%E2%98%86%E5%BD%A1.jpg\r\n",
        "!wget \"www.dropbox.com/s/x3fmb9mxr4xkip3/qtdbsel102.txt\" "
      ],
      "execution_count": null,
      "outputs": []
    },
    {
      "cell_type": "code",
      "metadata": {
        "id": "Aq0PCXlyVKVp"
      },
      "source": [
        "data = np.loadtxt(\"qtdbsel102.txt\",delimiter=\"\\t\")\r\n",
        "plt.plot(data[:3000,2])\r\n",
        "plt.show()\r\n",
        "img=plt.imread('/content/2016-06-14_Orange_and_white_tabby_cat_born_in_2016_茶トラ白ねこ_DSCF6526☆彡.jpg.1')\r\n",
        "plt.imshow(img)\r\n",
        "plt.show()"
      ],
      "execution_count": null,
      "outputs": []
    },
    {
      "cell_type": "code",
      "metadata": {
        "id": "FA5K59rPVpyc"
      },
      "source": [
        ""
      ],
      "execution_count": null,
      "outputs": []
    }
  ]
}