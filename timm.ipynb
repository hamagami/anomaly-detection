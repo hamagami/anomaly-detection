{
  "nbformat": 4,
  "nbformat_minor": 0,
  "metadata": {
    "colab": {
      "provenance": [],
      "authorship_tag": "ABX9TyNS+TkF8gUz7cPfNXSkt8WO",
      "include_colab_link": true
    },
    "kernelspec": {
      "name": "python3",
      "display_name": "Python 3"
    },
    "language_info": {
      "name": "python"
    }
  },
  "cells": [
    {
      "cell_type": "markdown",
      "metadata": {
        "id": "view-in-github",
        "colab_type": "text"
      },
      "source": [
        "<a href=\"https://colab.research.google.com/github/hamagami/anomaly-detection/blob/main/timm.ipynb\" target=\"_parent\"><img src=\"https://colab.research.google.com/assets/colab-badge.svg\" alt=\"Open In Colab\"/></a>"
      ]
    },
    {
      "cell_type": "markdown",
      "source": [
        "## timmによる学習済モデルの入手と画像の特徴抽出"
      ],
      "metadata": {
        "id": "XrHbghzgDPDD"
      }
    },
    {
      "cell_type": "markdown",
      "source": [
        "timmは学習済み画像認識・分類のモデルライブラリです。多くの優れた学習済モデルが入手できます。ここでは学習済モデルを画像の特徴抽出器として使う方法を示します"
      ],
      "metadata": {
        "id": "psICEiu1DVu3"
      }
    },
    {
      "cell_type": "markdown",
      "source": [
        "timm　のインストールです。PyCaretと同様にGoogleDrive上に展開すればその都度インストールする手間はかかりません"
      ],
      "metadata": {
        "id": "KOSySMTeDzGZ"
      }
    },
    {
      "cell_type": "code",
      "execution_count": null,
      "metadata": {
        "id": "pzwy2XjR02Qk"
      },
      "outputs": [],
      "source": [
        "!pip install timm"
      ]
    },
    {
      "cell_type": "code",
      "source": [
        "import timm\n",
        "import matplotlib.pyplot as plt\n",
        "import torch\n",
        "import torchvision.transforms as transforms\n",
        "import timm\n",
        "from PIL import Image\n",
        "import matplotlib.pyplot as plt\n",
        "import glob\n",
        "import random"
      ],
      "metadata": {
        "id": "naeATKhbELIv"
      },
      "execution_count": 2,
      "outputs": []
    },
    {
      "cell_type": "code",
      "source": [
        "!wget https://dl.dropbox.com/s/xqpcpncceajkjkj/2016-06-14_Orange_and_white_tabby_cat_born_in_2016_%E8%8C%B6%E3%83%88%E3%83%A9%E7%99%BD%E3%81%AD%E3%81%93_DSCF6526%E2%98%86%E5%BD%A1.jpg"
      ],
      "metadata": {
        "id": "_x7dlmrd3qyU"
      },
      "execution_count": null,
      "outputs": []
    },
    {
      "cell_type": "code",
      "source": [
        "img=plt.imread('2016-06-14_Orange_and_white_tabby_cat_born_in_2016_茶トラ白ねこ_DSCF6526☆彡.jpg')\n"
      ],
      "metadata": {
        "id": "-iAnyQSC30cV"
      },
      "execution_count": 4,
      "outputs": []
    },
    {
      "cell_type": "code",
      "source": [],
      "metadata": {
        "id": "T6qDP0CH04w4"
      },
      "execution_count": null,
      "outputs": []
    },
    {
      "cell_type": "code",
      "source": [
        "# 学習済みモデルの名前とクラス数\n",
        "model_name = 'resnet50'\n",
        "#model_name ='vgg16'\n",
        "num_classes = 1000  # 例として1000クラス分類モデルを使用\n",
        "\n",
        "# 画像読み込みと前処理\n",
        "image_path = '2016-06-14_Orange_and_white_tabby_cat_born_in_2016_茶トラ白ねこ_DSCF6526☆彡.jpg'\n",
        "image = Image.open(image_path).convert('RGB')\n",
        "preprocess = transforms.Compose([\n",
        "    transforms.Resize(256),\n",
        "    transforms.CenterCrop(224),\n",
        "    transforms.ToTensor(),\n",
        "    transforms.Normalize(mean=[0.485, 0.456, 0.406], std=[0.229, 0.224, 0.225]),\n",
        "])\n",
        "input_tensor = preprocess(image)\n",
        "input_batch = input_tensor.unsqueeze(0)\n",
        "\n",
        "# GPUが利用可能な場合は、モデルとデータをGPUに移動\n",
        "device = torch.device(\"cuda\" if torch.cuda.is_available() else \"cpu\")\n",
        "\n",
        "# 学習済みモデルの読み込み\n",
        "model = timm.create_model(model_name, pretrained=True)\n",
        "model.to(device)\n",
        "model.eval()\n",
        "\n",
        "# 特徴抽出\n",
        "with torch.no_grad():\n",
        "    input_batch = input_batch.to(device)\n",
        "    output = model(input_batch)\n",
        "\n",
        "# モデルの最終層を除いた特徴を取得\n",
        "features = output.squeeze().cpu().numpy()"
      ],
      "metadata": {
        "id": "uTXTXBt92InG"
      },
      "execution_count": null,
      "outputs": []
    },
    {
      "cell_type": "code",
      "source": [
        "len(features)"
      ],
      "metadata": {
        "colab": {
          "base_uri": "https://localhost:8080/"
        },
        "id": "XKUCbJXl4yTt",
        "outputId": "ad5568e2-1ace-4b68-f6ae-1709f88a54a3"
      },
      "execution_count": 6,
      "outputs": [
        {
          "output_type": "execute_result",
          "data": {
            "text/plain": [
              "1000"
            ]
          },
          "metadata": {},
          "execution_count": 6
        }
      ]
    },
    {
      "cell_type": "code",
      "source": [
        "plt.imshow(image)\n",
        "plt.show()\n",
        "plt.plot(features)"
      ],
      "metadata": {
        "id": "Xz8ValJ03apX"
      },
      "execution_count": null,
      "outputs": []
    },
    {
      "cell_type": "code",
      "source": [],
      "metadata": {
        "id": "7ASu4I0-6Nlb"
      },
      "execution_count": null,
      "outputs": []
    }
  ]
}