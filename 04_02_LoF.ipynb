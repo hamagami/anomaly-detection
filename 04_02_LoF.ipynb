{
  "nbformat": 4,
  "nbformat_minor": 0,
  "metadata": {
    "kernelspec": {
      "display_name": "Python 3",
      "language": "python",
      "name": "python3"
    },
    "language_info": {
      "codemirror_mode": {
        "name": "ipython",
        "version": 3
      },
      "file_extension": ".py",
      "mimetype": "text/x-python",
      "name": "python",
      "nbconvert_exporter": "python",
      "pygments_lexer": "ipython3",
      "version": "3.7.3"
    },
    "colab": {
      "name": "04_02_LoF.ipynb",
      "provenance": [],
      "include_colab_link": true
    }
  },
  "cells": [
    {
      "cell_type": "markdown",
      "metadata": {
        "id": "view-in-github",
        "colab_type": "text"
      },
      "source": [
        "<a href=\"https://colab.research.google.com/github/hamagami/anomaly-detection/blob/main/04_02_LoF.ipynb\" target=\"_parent\"><img src=\"https://colab.research.google.com/assets/colab-badge.svg\" alt=\"Open In Colab\"/></a>"
      ]
    },
    {
      "cell_type": "markdown",
      "metadata": {
        "id": "szu3-djtB_QL"
      },
      "source": [
        "# LOF (local outlier factor) 局所外れ値因子法\r\n",
        "LOFだけのサンプルです。近傍数を変えることで外れサンプルが変化していく様子がわかります。"
      ]
    },
    {
      "cell_type": "code",
      "metadata": {
        "id": "4wyBXLihB_QL"
      },
      "source": [
        "import matplotlib.pyplot as plt\n",
        "import seaborn as sns\n",
        "from sklearn.neighbors import LocalOutlierFactor # https://scikit-learn.org/stable/modules/generated/sklearn.neighbors.LocalOutlierFactor.html\n",
        "import numpy as np\n"
      ],
      "execution_count": null,
      "outputs": []
    },
    {
      "cell_type": "markdown",
      "metadata": {
        "id": "WdDJ2j7dB_QL"
      },
      "source": [
        "## ダミーデータの生成"
      ]
    },
    {
      "cell_type": "code",
      "metadata": {
        "id": "tQ5zfUuJB_QL"
      },
      "source": [
        "def makedata1():#単一分布の例\n",
        "  dnum=1000\n",
        "  mean = np.array([0, 0]) # 平均\n",
        "  cov = np.array([[1, 0.7],[0.7, 2]]) # 共分散行列\n",
        "  x, y = np.random.multivariate_normal(mean, cov, dnum).T #多変量正規分布に従う乱数を生成\n",
        "  data=np.array([x,y]).T\n",
        "  return data"
      ],
      "execution_count": null,
      "outputs": []
    },
    {
      "cell_type": "code",
      "metadata": {
        "id": "5s2bjGT141lM"
      },
      "source": [
        "def makedata2(): #複数分布の例\r\n",
        "  dnum=100\r\n",
        "\r\n",
        "  mean1 = np.array([0, -2]) # 平均を指定。\r\n",
        "  cov1 = np.array([[1, 0.7],[0.7, 2]]) # 共分散行列を指定。\r\n",
        "  x1, y1 = np.random.multivariate_normal(mean1, cov1, dnum).T \r\n",
        "\r\n",
        "  mean2 = np.array([4, 4]) # 平均を指定。\r\n",
        "  cov2 = np.array([[1, -0.3],[0.7, 0.4]]) # 共分散行列を指定。\r\n",
        "  x2, y2 = np.random.multivariate_normal(mean2, cov2, dnum).T \r\n",
        "\r\n",
        "  mean3 = np.array([-3, 5]) # 平均を指定。\r\n",
        "  cov3 = np.array([[0.8, -0.1],[1.0, 2]]) # 共分散行列を指定。\r\n",
        "  x3, y3 = np.random.multivariate_normal(mean3, cov3, dnum).T \r\n",
        "\r\n",
        "  mean=np.array([mean1,mean2,mean3])\r\n",
        "  cov =np.array([cov1,cov2,cov3])\r\n",
        "  x = np.hstack([x1, x2, x3])\r\n",
        "  y = np.hstack([y1,y2,y3])\r\n",
        "  data=np.array([x,y]).T\r\n",
        "\r\n",
        "  return data"
      ],
      "execution_count": null,
      "outputs": []
    },
    {
      "cell_type": "markdown",
      "metadata": {
        "id": "G9py2xrj2gfp"
      },
      "source": [
        "# LOFの近傍数をいろいろ変えてみる"
      ]
    },
    {
      "cell_type": "code",
      "metadata": {
        "id": "2mRGg6CSB_QM"
      },
      "source": [
        "ddata = [makedata1(),makedata2()]\r\n",
        "\r\n",
        "for data in ddata: \r\n",
        "  for i in range(1,15):\r\n",
        "    clf = LocalOutlierFactor(n_neighbors=i, contamination=0.05) # ⇐ここのパラメータをいろいろ変えてみるとLOFの振る舞いがよくわかる contamination は外れサンプルの割合\r\n",
        "    pred = clf.fit_predict(data)\r\n",
        "    ano= data[pred== -1] #予測結果が異常だったサンプルだけを取り出す\r\n",
        "    plt.xlim(-10,10)\r\n",
        "    plt.ylim(-10,10)\r\n",
        "    plt.plot(data.T[0],data.T[1],\".\")\r\n",
        "    plt.title(\"n_neigbors=\"+str(i))\r\n",
        "    plt.plot(ano[:,0],ano[:,1],\"o\")\r\n",
        "    plt.show()\r\n",
        "    #ここではユークリッド距離に基づいてLOFを考えているが，偏りがある場合はマハラノビス距離でとるべき"
      ],
      "execution_count": null,
      "outputs": []
    },
    {
      "cell_type": "code",
      "metadata": {
        "id": "DvvhylsvB_QM"
      },
      "source": [
        ""
      ],
      "execution_count": null,
      "outputs": []
    }
  ]
}