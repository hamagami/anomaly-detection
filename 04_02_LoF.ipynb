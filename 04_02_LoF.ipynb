{
  "nbformat": 4,
  "nbformat_minor": 0,
  "metadata": {
    "kernelspec": {
      "display_name": "Python 3",
      "language": "python",
      "name": "python3"
    },
    "language_info": {
      "codemirror_mode": {
        "name": "ipython",
        "version": 3
      },
      "file_extension": ".py",
      "mimetype": "text/x-python",
      "name": "python",
      "nbconvert_exporter": "python",
      "pygments_lexer": "ipython3",
      "version": "3.7.3"
    },
    "colab": {
      "name": "04_02_LoF.ipynb",
      "provenance": [],
      "include_colab_link": true
    }
  },
  "cells": [
    {
      "cell_type": "markdown",
      "metadata": {
        "id": "view-in-github",
        "colab_type": "text"
      },
      "source": [
        "<a href=\"https://colab.research.google.com/github/hamagami/anomaly-detection/blob/main/04_02_LoF.ipynb\" target=\"_parent\"><img src=\"https://colab.research.google.com/assets/colab-badge.svg\" alt=\"Open In Colab\"/></a>"
      ]
    },
    {
      "cell_type": "markdown",
      "metadata": {
        "id": "szu3-djtB_QL"
      },
      "source": [
        "# LOF (local outlier factor) 局所外れ値因子法"
      ]
    },
    {
      "cell_type": "code",
      "metadata": {
        "id": "4wyBXLihB_QL"
      },
      "source": [
        "import matplotlib.pyplot as plt\n",
        "import seaborn as sns\n",
        "from sklearn.neighbors import LocalOutlierFactor # https://scikit-learn.org/stable/modules/generated/sklearn.neighbors.LocalOutlierFactor.html\n",
        "import numpy as np\n"
      ],
      "execution_count": null,
      "outputs": []
    },
    {
      "cell_type": "markdown",
      "metadata": {
        "id": "WdDJ2j7dB_QL"
      },
      "source": [
        "## ダミーデータの生成"
      ]
    },
    {
      "cell_type": "code",
      "metadata": {
        "id": "tQ5zfUuJB_QL"
      },
      "source": [
        "dnum=500\n",
        "mean = np.array([0, 0]) # 平均\n",
        "cov = np.array([[1, 0.7],[0.7, 2]]) # 共分散行列\n",
        "x, y = np.random.multivariate_normal(mean, cov, dnum).T #多変量正規分布に従う乱数を生成\n",
        "plt.xlim(-5,5)\n",
        "plt.ylim(-5,5)\n",
        "plt.plot(x,y, \"x\")\n",
        "plt.show()"
      ],
      "execution_count": null,
      "outputs": []
    },
    {
      "cell_type": "code",
      "metadata": {
        "id": "4e1VZzOxB_QM"
      },
      "source": [
        "data=np.array([x,y]).T\n",
        "clf = LocalOutlierFactor(n_neighbors=7, contamination=0.005)\n",
        "pred = clf.fit_predict(data)\n"
      ],
      "execution_count": null,
      "outputs": []
    },
    {
      "cell_type": "code",
      "metadata": {
        "id": "2mRGg6CSB_QM"
      },
      "source": [
        "ano= data[pred== -1]"
      ],
      "execution_count": null,
      "outputs": []
    },
    {
      "cell_type": "code",
      "metadata": {
        "id": "x8e06aSeB_QM"
      },
      "source": [
        "plt.xlim(-5,5)\n",
        "plt.ylim(-5,5)\n",
        "plt.plot(x,y,\"x\")\n",
        "plt.plot(ano[:,0],ano[:,1],\"o\")\n",
        "plt.show()\n",
        "#ここではユークリッド距離に基づいてLOFを考えているが，偏りがある場合はマハラノビス距離でとるべき"
      ],
      "execution_count": null,
      "outputs": []
    },
    {
      "cell_type": "code",
      "metadata": {
        "id": "DvvhylsvB_QM"
      },
      "source": [
        ""
      ],
      "execution_count": null,
      "outputs": []
    }
  ]
}