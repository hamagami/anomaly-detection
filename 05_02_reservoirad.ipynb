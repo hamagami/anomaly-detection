{
  "nbformat": 4,
  "nbformat_minor": 0,
  "metadata": {
    "kernelspec": {
      "display_name": "Python 3",
      "language": "python",
      "name": "python3"
    },
    "language_info": {
      "codemirror_mode": {
        "name": "ipython",
        "version": 3
      },
      "file_extension": ".py",
      "mimetype": "text/x-python",
      "name": "python",
      "nbconvert_exporter": "python",
      "pygments_lexer": "ipython3",
      "version": "3.7.3"
    },
    "colab": {
      "name": "05_02_reservoirad.ipynb",
      "provenance": []
    }
  },
  "cells": [
    {
      "cell_type": "markdown",
      "metadata": {
        "id": "JqBjsf1Nj5bx"
      },
      "source": [
        "# リザバーによる異常検知\n",
        "一定時間の時系列情報から次サンプルを予測させることで，予測との誤差から異常を検知する"
      ]
    },
    {
      "cell_type": "code",
      "metadata": {
        "id": "SY5qknjcj5b3"
      },
      "source": [
        "import numpy as np\n",
        "from scipy import linalg\n",
        "import matplotlib.pyplot as plt"
      ],
      "execution_count": null,
      "outputs": []
    },
    {
      "cell_type": "markdown",
      "metadata": {
        "id": "fbMJC0CBj5b4"
      },
      "source": [
        "## データをセグメント化"
      ]
    },
    {
      "cell_type": "code",
      "metadata": {
        "id": "Y0NDZcLTj5b4"
      },
      "source": [
        "def segdata(lst, dim):\n",
        "    emb = np.empty((0,dim), float)\n",
        "    for i in range(lst.size - dim + 1):\n",
        "        tmp = np.array(lst[i:i+dim])[::-1].reshape((1,-1)) #セグメントの切り出し，時系列反転，appendのための2次ベクトル化\n",
        "        emb = np.append( emb, tmp, axis=0)\n",
        "    return emb"
      ],
      "execution_count": null,
      "outputs": []
    },
    {
      "cell_type": "markdown",
      "metadata": {
        "id": "Oh_Of68Gj5b5"
      },
      "source": [
        "## データ読み込み　トレーニング，テストデータ分割"
      ]
    },
    {
      "cell_type": "code",
      "metadata": {
        "id": "Glrg9PY4ijWf"
      },
      "source": [
        "!wget \"www.dropbox.com/s/x3fmb9mxr4xkip3/qtdbsel102.txt\""
      ],
      "execution_count": null,
      "outputs": []
    },
    {
      "cell_type": "code",
      "metadata": {
        "id": "hxBcP6--j5b5"
      },
      "source": [
        "LEN=3000  #分析区間\n",
        "WLEN=200 #セグメントのサイズ\n",
        "SP=0         #学習用データの開始点\n",
        "AP=3000   #テスト用データの開始点　個のデータの場合 4250ポイント付近に異常がある\n",
        "data = np.loadtxt(\"qtdbsel102.txt\",delimiter=\"\\t\")\n",
        "\n",
        "#元データは3次元の時系列，3次のデータ(indexとしては2)を指定して学習/テストデータに分割\n",
        "train_org = data[SP:SP+LEN, 2] -np.mean(data[SP:SP+LEN, 2])     #学習用データとして 1～2999サンプル区間を使用\n",
        "test_org  = data[AP:AP+LEN, 2] -np.mean( data[AP:AP+LEN, 2]) #テスト用データとして3000～5999サンプルを使用"
      ],
      "execution_count": null,
      "outputs": []
    },
    {
      "cell_type": "code",
      "metadata": {
        "scrolled": false,
        "id": "smyBUKEfj5b5"
      },
      "source": [
        "seglen = WLEN   #Window size\n",
        "#winlenの単位で1ポイントずつずらした2次元表現に変換\n",
        "\n",
        "train_org=np.append(np.zeros(WLEN),train_org/max(abs(train_org))*0.85)\n",
        "test_org=np.append(np.zeros(WLEN),test_org/max(abs(test_org))*0.85)\n",
        "\n",
        "input_v= segdata(train_org, seglen)\n",
        "output_v= input_v.T[0][1:].T\n",
        "input_v=input_v[:-1]\n",
        "\n",
        "plt.plot(train_org)\n",
        "plt.title(\"training data\")\n",
        "plt.show()\n",
        "r_input_v=segdata(test_org,seglen)\n",
        "r_output_v= r_input_v.T[0][1:].T\n",
        "plt.plot(test_org)\n",
        "plt.title(\"test data\")\n",
        "plt.plot()"
      ],
      "execution_count": null,
      "outputs": []
    },
    {
      "cell_type": "code",
      "metadata": {
        "id": "hn2Qk23Sj5b6"
      },
      "source": [
        "class ReservoirNetWork:\n",
        "\n",
        "    def __init__(self, inputs, outputs,num_input_nodes, num_reservoir_nodes, num_output_nodes, leak_rate=0.1, activator=np.tanh):\n",
        "        self.inputs = inputs # 学習で使う入力\n",
        "        self.outputs= outputs\n",
        "        self.log_reservoir_nodes = np.array([np.zeros(num_reservoir_nodes)]) # reservoir層のノードの状態を記録\n",
        "        self.current_state =  np.array([np.zeros(num_reservoir_nodes)]) \n",
        "        \n",
        "        # init weights\n",
        "        self.weights_input = self._generate_variational_weights(num_input_nodes, num_reservoir_nodes)#入力重み\n",
        "        self.weights_reservoir = self._generate_reservoir_weights(num_reservoir_nodes)#リザバー内重み\n",
        "        self.weights_output = np.zeros([num_reservoir_nodes, num_output_nodes])#出力重み\n",
        "        self.delta = np.zeros([num_reservoir_nodes, num_output_nodes])#出力重み\n",
        "\n",
        "        # それぞれの層のノードの数\n",
        "        self.num_input_nodes = num_input_nodes\n",
        "        self.num_reservoir_nodes = num_reservoir_nodes\n",
        "        self.num_output_nodes = num_output_nodes\n",
        "\n",
        "        self.leak_rate = leak_rate # 漏れ率\n",
        "        self.activator = activator # 活性化関数\n",
        "\n",
        "    # reservoir層のノードの次の状態を取得\n",
        "    def _get_next_reservoir_nodes(self, input, current_state):\n",
        "        next_state = (1 - self.leak_rate) * current_state\n",
        "        #next_state += self.leak_rate * (np.array([input]) @ self.weights_input)\n",
        "        next_state += self.leak_rate * (np.array(input) @ self.weights_input+ current_state @ self.weights_reservoir)\n",
        "        return self.activator(next_state)\n",
        "\n",
        "    # 出力層の重みを更新\n",
        "    def _update_weights_output(self, lambda0):\n",
        "        # Ridge Regression\n",
        "        E_lambda0 = np.identity(self.num_reservoir_nodes) * lambda0 # lambda0　単位行列*lambda0の行列\n",
        "        inv_x = np.linalg.inv(self.log_reservoir_nodes.T @ self.log_reservoir_nodes + E_lambda0) #逆行列\n",
        "        # update weights of output layer\n",
        "        self.weights_output = (inv_x @ self.log_reservoir_nodes.T) @ self.outputs# ここでのinputsは出力として　実際には別にする\n",
        "\n",
        "        \n",
        "    def _gen_internal_seq(self):\n",
        "        self.log_reservoir_nodes = np.array([np.zeros(self.num_reservoir_nodes)]) # reservoir層のノードの状態を記録\n",
        "        for ainput in self.inputs:#入力の各点が入るたびに内部状態を記録する\n",
        "            current_state = np.array(self.log_reservoir_nodes[-1])#logの末端の状態が最新（現在）の状態\n",
        "            self.log_reservoir_nodes = np.append(self.log_reservoir_nodes,\n",
        "                [self._get_next_reservoir_nodes(ainput, current_state)], axis=0)#次状態をlogに追加\n",
        "        self.log_reservoir_nodes = self.log_reservoir_nodes[1:]# 最初の0で埋めた分を取り除く\n",
        "        ##ここで内部状態のすべての変化がトレースできている\n",
        "        \n",
        "    # 学習する（リッジ回帰版）\n",
        "    def train(self, lambda0=0.1):\n",
        "        self._gen_internal_seq()\n",
        "        self._update_weights_output(lambda0)#重みを更新\n",
        "\n",
        "    def get_weight(self):\n",
        "        return self.weights_output\n",
        "    \n",
        "    # 学習で得られた重みを基に訓練データを学習できているかを出力\n",
        "    def get_train_result(self):\n",
        "        outputs = []\n",
        "        reservoir_nodes = np.zeros(self.num_reservoir_nodes)\n",
        "        for input in self.inputs:\n",
        "            reservoir_nodes = self._get_next_reservoir_nodes(input, reservoir_nodes)\n",
        "            outputs.append(self.get_output(reservoir_nodes))\n",
        "        return outputs\n",
        "\n",
        "    def predict(self, unknowninput, lambda0=0.01):\n",
        "        predicted_outputs = np.array([0]) #初期出力０\n",
        "        reservoir_nodes = self.log_reservoir_nodes[0] # 訓練の結果得た最後の内部状態を取得する場合は[-1] 完全に初期状態は[0]\n",
        "        \n",
        "        # １つづつ入力を取り出して予測\n",
        "        for inp in unknowninput:\n",
        "            reservoir_nodes = self._get_next_reservoir_nodes(inp, reservoir_nodes)#入力を入れて次状態を得る\n",
        "            predicted_outputs=np.append(predicted_outputs,self.get_output(reservoir_nodes))#次状態から出力を得てバッファにappend\n",
        "        return predicted_outputs[1:] # 最初に使用した学習データ以降が予測値\n",
        "\n",
        "\n",
        "    # get output of current state\n",
        "    def get_output(self, reservoir_nodes):\n",
        "        return self.activator(reservoir_nodes @ self.weights_output) #修正前\n",
        "        #return reservoir_nodes @ self.weights_output # 修正後\n",
        "\n",
        "    #############################\n",
        "    ##### private method ########\n",
        "    #############################\n",
        "\n",
        "    # 重みを0.1か-0.1で初期化したものを返す\n",
        "    def _generate_variational_weights(self, num_pre_nodes, num_post_nodes):\n",
        "        return (np.random.randint(0, 2, num_pre_nodes * num_post_nodes).reshape([num_pre_nodes, num_post_nodes]) * 2 - 1) * 0.1\n",
        "\n",
        "    # Reservoir層の重みを初期化\n",
        "    def _generate_reservoir_weights(self, num_nodes):\n",
        "        weights = np.random.normal(0, 1, num_nodes * num_nodes).reshape([num_nodes, num_nodes])\n",
        "        spectral_radius = max(abs(linalg.eigvals(weights)))\n",
        "        return weights / spectral_radius"
      ],
      "execution_count": null,
      "outputs": []
    },
    {
      "cell_type": "markdown",
      "metadata": {
        "id": "RMtZZmDuj5b7"
      },
      "source": [
        "## 学習データでリザバーをトレーニング"
      ]
    },
    {
      "cell_type": "code",
      "metadata": {
        "id": "MSvVJmTkj5b7"
      },
      "source": [
        "model = ReservoirNetWork(inputs=input_v,#入力（1次ベクトル）\n",
        "                         outputs=output_v,  #ターゲット（未来のイベント）\n",
        "                         num_input_nodes=WLEN,        #入力ノード数 \n",
        "                         num_reservoir_nodes=150,       #リザバーノード数 \n",
        "                         num_output_nodes=1,            #出力ノード数\n",
        "                         leak_rate=0.01)\n",
        "model.train()"
      ],
      "execution_count": null,
      "outputs": []
    },
    {
      "cell_type": "markdown",
      "metadata": {
        "id": "5xKDmWMFj5b7"
      },
      "source": [
        "## 学習データの予測"
      ]
    },
    {
      "cell_type": "code",
      "metadata": {
        "id": "OxVPW2UYj5b7"
      },
      "source": [
        "train_ret=model.predict(input_v)\n",
        "plt.plot(train_org)\n",
        "plt.plot(np.append(np.zeros(WLEN),train_ret))\n",
        "plt.title(\"train and prediction\")\n",
        "plt.show()\n",
        "diff_train=train_org-np.append(np.zeros(WLEN),train_ret)"
      ],
      "execution_count": null,
      "outputs": []
    },
    {
      "cell_type": "markdown",
      "metadata": {
        "id": "kobMfIHbj5b8"
      },
      "source": [
        "## テストデータ（異常を含む）の予測"
      ]
    },
    {
      "cell_type": "code",
      "metadata": {
        "id": "3FZKFtKZj5b8"
      },
      "source": [
        "test_ret=model.predict(r_input_v)\n",
        "plt.plot(test_org)\n",
        "plt.plot(np.append(np.zeros(WLEN),test_ret))\n",
        "plt.title(\"test and prediction\")\n",
        "plt.show()\n",
        "diff_test=test_org-np.append(np.zeros(WLEN),test_ret[:-1])"
      ],
      "execution_count": null,
      "outputs": []
    },
    {
      "cell_type": "markdown",
      "metadata": {
        "id": "oeodvCHBj5b8"
      },
      "source": [
        "## 誤差の比較"
      ]
    },
    {
      "cell_type": "code",
      "metadata": {
        "id": "2-40BQxRj5b9"
      },
      "source": [
        "plt.plot(abs(diff_train))\n",
        "plt.ylim([0,1.0])\n",
        "plt.title(\"train err\")\n",
        "plt.show()\n",
        "plt.plot(abs(diff_test))\n",
        "plt.title(\"test err\")\n",
        "plt.ylim([0,1.0])\n",
        "plt.show()"
      ],
      "execution_count": null,
      "outputs": []
    },
    {
      "cell_type": "code",
      "metadata": {
        "id": "_5zuOPmcj5b9"
      },
      "source": [
        ""
      ],
      "execution_count": null,
      "outputs": []
    },
    {
      "cell_type": "code",
      "metadata": {
        "id": "xA66C2e5j5b9"
      },
      "source": [
        ""
      ],
      "execution_count": null,
      "outputs": []
    },
    {
      "cell_type": "code",
      "metadata": {
        "id": "ajVmZ-Nxj5b9"
      },
      "source": [
        ""
      ],
      "execution_count": null,
      "outputs": []
    }
  ]
}