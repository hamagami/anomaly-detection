{
  "nbformat": 4,
  "nbformat_minor": 0,
  "metadata": {
    "colab": {
      "name": "様々な距離の定義.ipynb",
      "provenance": [],
      "authorship_tag": "ABX9TyP/zldv+ow2S1mnUtAlr5yk",
      "include_colab_link": true
    },
    "kernelspec": {
      "name": "python3",
      "display_name": "Python 3"
    },
    "accelerator": "GPU"
  },
  "cells": [
    {
      "cell_type": "markdown",
      "metadata": {
        "id": "view-in-github",
        "colab_type": "text"
      },
      "source": [
        "<a href=\"https://colab.research.google.com/github/hamagami/anomaly-detection/blob/main/%E6%A7%98%E3%80%85%E3%81%AA%E8%B7%9D%E9%9B%A2%E3%81%AE%E5%AE%9A%E7%BE%A9.ipynb\" target=\"_parent\"><img src=\"https://colab.research.google.com/assets/colab-badge.svg\" alt=\"Open In Colab\"/></a>"
      ]
    },
    {
      "cell_type": "code",
      "metadata": {
        "id": "bgJWoiEG9I_J"
      },
      "source": [
        "import numpy as np\r\n",
        "import matplotlib.pyplot as plt\r\n",
        "import matplotlib.cm as cm\r\n",
        "%matplotlib inline\r\n",
        "\r\n",
        "def label_cluster_num(means, mesh_points, metrics):\r\n",
        "    def label(point):\r\n",
        "        cluster_label = np.argmin(map(lambda mean: metrics(mean, point), means))\r\n",
        "        return point, cluster_label\r\n",
        "    return map(label, mesh_points)"
      ],
      "execution_count": 1,
      "outputs": []
    },
    {
      "cell_type": "code",
      "metadata": {
        "id": "2tvO_CS09NQx"
      },
      "source": [
        "c_means = np.array([[1, 2], [-3, 4], [-5, -6], [7, -8]])\r\n",
        "xs = np.linspace(-10, 10, 100)\r\n",
        "ys = np.linspace(-10, 10, 100)\r\n",
        "xx, yy = np.meshgrid(xs, ys)\r\n",
        "mesh_points = np.c_[xx.ravel(), yy.ravel()]"
      ],
      "execution_count": 2,
      "outputs": []
    },
    {
      "cell_type": "code",
      "metadata": {
        "colab": {
          "base_uri": "https://localhost:8080/",
          "height": 138
        },
        "id": "_UvnJcPX9XWE",
        "outputId": "da66f0ef-f4b4-456b-de4a-b8f35fc7829a"
      },
      "source": [
        "def show_volonoi_with_metrics(metrics):\r\n",
        "    labeled_mesh_points = label_cluster_num(c_means, mesh_points, metrics=metrics)\r\n",
        "    plt.figure()\r\n",
        "    fig, ax = plt.subplots()\r\n",
        "    \r\n",
        "    ax.set_aspect('equal')\r\n",
        "    ax.grid(True, which='both')\r\n",
        "    ax.axhline(y=0, color='k')\r\n",
        "    ax.axvline(x=0, color='k')\r\n",
        "    ax.set_xlim([-10, 10])\r\n",
        "    ax.set_ylim([-10, 10])\r\n",
        "    \r\n",
        "    for i in range(0, len(c_means)):\r\n",
        "        cluster_points = map(lambda (p, label): p, filter(lambda (p, label): label == i, labeled_mesh_points))\r\n",
        "        xs = map(lambda p: p[0], cluster_points)\r\n",
        "        ys = map(lambda p: p[1], cluster_points)\r\n",
        "        ax.scatter(xs, ys, color=cm.prism(i / float(len(c_means))), marker='.')\r\n",
        "      \r\n",
        "    ax.scatter(map(lambda p: p[0], c_means), map(lambda p: p[1], c_means), color=\"g\", marker='o')\r\n",
        "    \r\n",
        "    plt.show()"
      ],
      "execution_count": 1,
      "outputs": [
        {
          "output_type": "error",
          "ename": "SyntaxError",
          "evalue": "ignored",
          "traceback": [
            "\u001b[0;36m  File \u001b[0;32m\"<ipython-input-1-511638a2e1c3>\"\u001b[0;36m, line \u001b[0;32m14\u001b[0m\n\u001b[0;31m    cluster_points = map(lambda (p, label): p, filter(lambda (p, label): label == i, labeled_mesh_points))\u001b[0m\n\u001b[0m                                ^\u001b[0m\n\u001b[0;31mSyntaxError\u001b[0m\u001b[0;31m:\u001b[0m invalid syntax\n"
          ]
        }
      ]
    },
    {
      "cell_type": "code",
      "metadata": {
        "colab": {
          "base_uri": "https://localhost:8080/",
          "height": 211
        },
        "id": "aaa4zd3t9f0u",
        "outputId": "19bfa2e9-6da9-4bef-adda-849839c8be0e"
      },
      "source": [
        "\r\n",
        "import scipy.spatial.distance as dist\r\n",
        "\r\n",
        "show_volonoi_with_metrics(dist.euclidean)"
      ],
      "execution_count": 5,
      "outputs": [
        {
          "output_type": "error",
          "ename": "NameError",
          "evalue": "ignored",
          "traceback": [
            "\u001b[0;31m---------------------------------------------------------------------------\u001b[0m",
            "\u001b[0;31mNameError\u001b[0m                                 Traceback (most recent call last)",
            "\u001b[0;32m<ipython-input-5-ff5f90a8fe7c>\u001b[0m in \u001b[0;36m<module>\u001b[0;34m()\u001b[0m\n\u001b[1;32m      2\u001b[0m \u001b[0;32mimport\u001b[0m \u001b[0mscipy\u001b[0m\u001b[0;34m.\u001b[0m\u001b[0mspatial\u001b[0m\u001b[0;34m.\u001b[0m\u001b[0mdistance\u001b[0m \u001b[0;32mas\u001b[0m \u001b[0mdist\u001b[0m\u001b[0;34m\u001b[0m\u001b[0;34m\u001b[0m\u001b[0m\n\u001b[1;32m      3\u001b[0m \u001b[0;34m\u001b[0m\u001b[0m\n\u001b[0;32m----> 4\u001b[0;31m \u001b[0mshow_volonoi_with_metrics\u001b[0m\u001b[0;34m(\u001b[0m\u001b[0mdist\u001b[0m\u001b[0;34m.\u001b[0m\u001b[0meuclidean\u001b[0m\u001b[0;34m)\u001b[0m\u001b[0;34m\u001b[0m\u001b[0;34m\u001b[0m\u001b[0m\n\u001b[0m",
            "\u001b[0;31mNameError\u001b[0m: name 'show_volonoi_with_metrics' is not defined"
          ]
        }
      ]
    },
    {
      "cell_type": "code",
      "metadata": {
        "colab": {
          "base_uri": "https://localhost:8080/",
          "height": 174
        },
        "id": "ZNIoufgZ9sRe",
        "outputId": "0324817c-e688-4caf-86d1-33b3aee7eaa4"
      },
      "source": [
        "show_volonoi_with_metrics(dist.cosine)"
      ],
      "execution_count": 6,
      "outputs": [
        {
          "output_type": "error",
          "ename": "NameError",
          "evalue": "ignored",
          "traceback": [
            "\u001b[0;31m---------------------------------------------------------------------------\u001b[0m",
            "\u001b[0;31mNameError\u001b[0m                                 Traceback (most recent call last)",
            "\u001b[0;32m<ipython-input-6-000f4a57162a>\u001b[0m in \u001b[0;36m<module>\u001b[0;34m()\u001b[0m\n\u001b[0;32m----> 1\u001b[0;31m \u001b[0mshow_volonoi_with_metrics\u001b[0m\u001b[0;34m(\u001b[0m\u001b[0mdist\u001b[0m\u001b[0;34m.\u001b[0m\u001b[0mcosine\u001b[0m\u001b[0;34m)\u001b[0m\u001b[0;34m\u001b[0m\u001b[0;34m\u001b[0m\u001b[0m\n\u001b[0m",
            "\u001b[0;31mNameError\u001b[0m: name 'show_volonoi_with_metrics' is not defined"
          ]
        }
      ]
    },
    {
      "cell_type": "code",
      "metadata": {
        "colab": {
          "base_uri": "https://localhost:8080/",
          "height": 174
        },
        "id": "u5n2JOpB9wZv",
        "outputId": "70f7bf7b-0819-438a-9a57-ee2363b72c4a"
      },
      "source": [
        "show_volonoi_with_metrics(dist.cityblock)"
      ],
      "execution_count": 7,
      "outputs": [
        {
          "output_type": "error",
          "ename": "NameError",
          "evalue": "ignored",
          "traceback": [
            "\u001b[0;31m---------------------------------------------------------------------------\u001b[0m",
            "\u001b[0;31mNameError\u001b[0m                                 Traceback (most recent call last)",
            "\u001b[0;32m<ipython-input-7-d37031358364>\u001b[0m in \u001b[0;36m<module>\u001b[0;34m()\u001b[0m\n\u001b[0;32m----> 1\u001b[0;31m \u001b[0mshow_volonoi_with_metrics\u001b[0m\u001b[0;34m(\u001b[0m\u001b[0mdist\u001b[0m\u001b[0;34m.\u001b[0m\u001b[0mcityblock\u001b[0m\u001b[0;34m)\u001b[0m\u001b[0;34m\u001b[0m\u001b[0;34m\u001b[0m\u001b[0m\n\u001b[0m",
            "\u001b[0;31mNameError\u001b[0m: name 'show_volonoi_with_metrics' is not defined"
          ]
        }
      ]
    },
    {
      "cell_type": "code",
      "metadata": {
        "id": "Uatcb9a591yF"
      },
      "source": [
        ""
      ],
      "execution_count": null,
      "outputs": []
    }
  ]
}