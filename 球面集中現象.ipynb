{
  "nbformat": 4,
  "nbformat_minor": 0,
  "metadata": {
    "kernelspec": {
      "display_name": "Python 3",
      "language": "python",
      "name": "python3"
    },
    "language_info": {
      "codemirror_mode": {
        "name": "ipython",
        "version": 3
      },
      "file_extension": ".py",
      "mimetype": "text/x-python",
      "name": "python",
      "nbconvert_exporter": "python",
      "pygments_lexer": "ipython3",
      "version": "3.7.3"
    },
    "colab": {
      "name": "球面集中現象.ipynb",
      "provenance": [],
      "include_colab_link": true
    }
  },
  "cells": [
    {
      "cell_type": "markdown",
      "metadata": {
        "id": "view-in-github",
        "colab_type": "text"
      },
      "source": [
        "<a href=\"https://colab.research.google.com/github/hamagami/anomaly-detection/blob/main/%E7%90%83%E9%9D%A2%E9%9B%86%E4%B8%AD%E7%8F%BE%E8%B1%A1.ipynb\" target=\"_parent\"><img src=\"https://colab.research.google.com/assets/colab-badge.svg\" alt=\"Open In Colab\"/></a>"
      ]
    },
    {
      "cell_type": "markdown",
      "metadata": {
        "id": "8izyY0NQUQ8O"
      },
      "source": [
        "# 球面集中現象\n",
        "直観的にはわかりにくいですが，次元が大きくなると，すべてのサンプルは超球の表面に集まり，平均付近の空間にサンプルがなくなっていきます。適当なサンプルを原点とみなしても同じ現象が生じます。すなわち，どのサンプルもほとんどが同じ距離となるため，サンプル間の距離では違いが評価できないという現象が生じます。この現象は「球面集中現象」という次元の呪いの一種です。\n"
      ]
    },
    {
      "cell_type": "code",
      "metadata": {
        "id": "dd7eJ0fsUQ8T"
      },
      "source": [
        "import numpy as np\n",
        "import matplotlib.pyplot as plt"
      ],
      "execution_count": 1,
      "outputs": []
    },
    {
      "cell_type": "markdown",
      "metadata": {
        "id": "MO1ySkl5UQ8U"
      },
      "source": [
        "任意次元中に作成した標準正規分布内のデータに対し，データ同士の距離の分布を確認する"
      ]
    },
    {
      "cell_type": "code",
      "metadata": {
        "id": "g0eT6E6EUQ8U"
      },
      "source": [
        "def make_figures(n_dimension=2, n_samples=1000):\n",
        "\n",
        "    #任意次元の標準正規分布の生成\n",
        "    mean = np.zeros(n_dimension)   #平均0\n",
        "    cov = np.identity(n_dimension) #対角正方行列（分散１）\n",
        "    x = np.random.multivariate_normal(mean,cov,size=n_samples)\n",
        "\n",
        "    r = np.sqrt(np.sum(np.square(x),axis=1))#原点からの距離を計算\n",
        "\n",
        "    #原点からの分布を確認するためのベクトルを適当に作成\n",
        "    theta = np.random.uniform(-np.pi,np.pi,n_samples)\n",
        "\n",
        "    #距離のヒストグラム 高次になると同じ値に集まる\n",
        "    plt.hist(r, bins=20)\n",
        "    plt.xlim([0,50])\n",
        "    plt.title(\"distance histgram, dimension =\"+str(n_dimension))\n",
        "    plt.show()\n",
        "\n",
        "    #2次元上にデータの分布を描く\n",
        "    p1 = r * np.cos(theta)\n",
        "    p2 = r * np.sin(theta)\n",
        "    plt.scatter(p1,p2,marker=\".\")\n",
        "    plt.xlim([-30,30])\n",
        "    plt.ylim([-30,30])\n",
        "    plt.title(\"disribution, dimension =\"+str(n_dimension))\n",
        "    plt.show()\n",
        ""
      ],
      "execution_count": 2,
      "outputs": []
    },
    {
      "cell_type": "markdown",
      "source": [
        "以下を実行すると，各次元ごとにランダムに発生させたデータ同士の距離の分布をみることができます。次元が増えると距離の分布が原点から離れ，狭い領域のドーナツ状になっていくことがわかります。この現象が意味するのは，次元が増えるとデータ同士の距離の違いがなくなり違いを表現できなくなる　ということです。"
      ],
      "metadata": {
        "id": "3NoV8CkX5R9I"
      }
    },
    {
      "cell_type": "code",
      "metadata": {
        "scrolled": false,
        "id": "nqRW914tUQ8U"
      },
      "source": [
        "seed = 100\n",
        "np.random.seed(seed)\n",
        "\n",
        "list_n_dimension = [2,5, 10, 100, 500,1000]\n",
        "for n_dimension in list_n_dimension:\n",
        "    make_figures(n_dimension, 1000)"
      ],
      "execution_count": null,
      "outputs": []
    },
    {
      "cell_type": "code",
      "metadata": {
        "id": "GtFh3oCuUQ8V"
      },
      "source": [],
      "execution_count": null,
      "outputs": []
    }
  ]
}