{
  "nbformat": 4,
  "nbformat_minor": 0,
  "metadata": {
    "kernelspec": {
      "display_name": "Python 3",
      "language": "python",
      "name": "python3"
    },
    "language_info": {
      "codemirror_mode": {
        "name": "ipython",
        "version": 3
      },
      "file_extension": ".py",
      "mimetype": "text/x-python",
      "name": "python",
      "nbconvert_exporter": "python",
      "pygments_lexer": "ipython3",
      "version": "3.7.3"
    },
    "colab": {
      "name": "05_01_CNN.ipynb",
      "provenance": [],
      "history_visible": true,
      "include_colab_link": true
    }
  },
  "cells": [
    {
      "cell_type": "markdown",
      "metadata": {
        "id": "view-in-github",
        "colab_type": "text"
      },
      "source": [
        "<a href=\"https://colab.research.google.com/github/hamagami/anomaly-detection/blob/main/05_01_CNN.ipynb\" target=\"_parent\"><img src=\"https://colab.research.google.com/assets/colab-badge.svg\" alt=\"Open In Colab\"/></a>"
      ]
    },
    {
      "cell_type": "markdown",
      "metadata": {
        "id": "5U8fubAHfENi"
      },
      "source": [
        "# VGG16ネットワークで抽出した画像特徴をもとに簡単な異常検知を行う"
      ]
    },
    {
      "cell_type": "markdown",
      "metadata": {
        "id": "1pdoh_r0fQtl"
      },
      "source": [
        "色々なギター画像に対し，ギターに似た画像を異常検知する"
      ]
    },
    {
      "cell_type": "code",
      "metadata": {
        "id": "DcbS1Jh9axNy"
      },
      "source": [
        "# データ取得　画像をたくさんとってきます\n",
        "!wget https://dl.dropbox.com/s/dmjzsrqa9s22joi/imgs.zip\n",
        "!unzip -d . imgs.zip"
      ],
      "execution_count": null,
      "outputs": []
    },
    {
      "cell_type": "code",
      "metadata": {
        "id": "k4jtyg7Easoq"
      },
      "source": [
        "from keras.applications import VGG16\n",
        "from keras.layers import Dense, Dropout, Activation, Flatten\n",
        "from keras import models, optimizers, layers\n",
        "from keras.preprocessing.image import array_to_img, img_to_array, load_img, ImageDataGenerator\n",
        "from keras.applications.resnet50 import preprocess_input\n",
        "from sklearn.svm import OneClassSVM\n",
        "\n",
        "import glob  \n",
        "from PIL import Image \n",
        "import numpy as np  \n",
        "import matplotlib.pyplot as plt\n",
        "from sklearn.cluster import KMeans\n",
        "from sklearn.decomposition import PCA\n",
        "from sklearn import preprocessing\n",
        "import matplotlib.image as mpimg\n",
        "import random"
      ],
      "execution_count": null,
      "outputs": []
    },
    {
      "cell_type": "markdown",
      "metadata": {
        "id": "3srDnOB4fjcI"
      },
      "source": [
        "## 画像のサイズを調整"
      ]
    },
    {
      "cell_type": "code",
      "metadata": {
        "id": "68hvg1Xkasor"
      },
      "source": [
        "def expand2square(pil_img, background_color):\n",
        "    width, height = pil_img.size\n",
        "    if width == height:\n",
        "        return pil_img\n",
        "    elif width > height:\n",
        "        result = Image.new(pil_img.mode, (width, width), background_color)\n",
        "        result.paste(pil_img, (0, (width - height) // 2))\n",
        "        return result\n",
        "    else:\n",
        "        result = Image.new(pil_img.mode, (height, height), background_color)\n",
        "        result.paste(pil_img, ((height - width) // 2, 0))\n",
        "        return result"
      ],
      "execution_count": null,
      "outputs": []
    },
    {
      "cell_type": "markdown",
      "metadata": {
        "id": "cV0B7SxofsXU"
      },
      "source": [
        "## VGG16ネットワークを取得"
      ]
    },
    {
      "cell_type": "code",
      "metadata": {
        "scrolled": true,
        "id": "DaZO4u_7asor"
      },
      "source": [
        "model = VGG16(weights='imagenet', include_top=False, pooling=\"avg\")"
      ],
      "execution_count": null,
      "outputs": []
    },
    {
      "cell_type": "markdown",
      "metadata": {
        "id": "Y4QikqDhfw44"
      },
      "source": [
        "## 画像から特徴を取り出す関数"
      ]
    },
    {
      "cell_type": "code",
      "metadata": {
        "id": "7XF8xf-casor"
      },
      "source": [
        "def feature_extraction(model, img_path, image_size=224):\n",
        "    im=load_img(f)\n",
        "    img = expand2square(im, (128, 128, 128)).resize((image_size, image_size))\n",
        "    x = img_to_array(img)\n",
        "    x = np.expand_dims(x, axis=0)  # add a dimention of samples\n",
        "    x = preprocess_input(x)  # RGB 2 BGR and zero-centering by mean pixel based on the position of channels\n",
        "\n",
        "    feat = model.predict(x)  # Get image features\n",
        "    feat = feat.flatten()  # Convert 3-dimentional matrix to (1, n) array\n",
        "\n",
        "    return feat"
      ],
      "execution_count": null,
      "outputs": []
    },
    {
      "cell_type": "markdown",
      "metadata": {
        "id": "B3AcSdy8f4WM"
      },
      "source": [
        "## ギター画像の特徴抽出"
      ]
    },
    {
      "cell_type": "code",
      "metadata": {
        "id": "4SniJYbugBph"
      },
      "source": [
        "data=[]\n",
        "files = glob.glob(\"./imgs/guitar/*\") \n",
        "# サンプル画像\n",
        "for f in random.sample(files, 3):\n",
        "  print(f)\n",
        "  plt.imshow(mpimg.imread(f))\n",
        "  plt.show()"
      ],
      "execution_count": null,
      "outputs": []
    },
    {
      "cell_type": "code",
      "metadata": {
        "id": "Y24iX90wasor"
      },
      "source": [
        "# 特徴抽出\n",
        "for f in files:\n",
        "        print(f)\n",
        "        ret= feature_extraction(model, f, 224)\n",
        "        data.append(ret)"
      ],
      "execution_count": null,
      "outputs": []
    },
    {
      "cell_type": "code",
      "metadata": {
        "id": "dVgkyS_5asor"
      },
      "source": [
        "plt.plot(data[0],label=\"feature value\")\n",
        "plt.show()"
      ],
      "execution_count": null,
      "outputs": []
    },
    {
      "cell_type": "code",
      "metadata": {
        "id": "ASym68LUasot"
      },
      "source": [
        "data = np.array(data)\n",
        "pca = PCA(n_components=2)\n",
        "pdata =np.array(pca.fit_transform(data))\n",
        "plt.scatter(pdata.T[0],pdata.T[1])\n",
        "plt.show()"
      ],
      "execution_count": null,
      "outputs": []
    },
    {
      "cell_type": "code",
      "metadata": {
        "id": "hJ7WSsptasou"
      },
      "source": [
        "mmscaler = preprocessing.MinMaxScaler() \n",
        "mmscaler.fit(data)  \n",
        "sdata=mmscaler.transform(data)\n",
        "\n",
        "ocsvm = OneClassSVM(nu=0.001, kernel=\"rbf\", gamma='auto')\n",
        "ocsvm.fit(sdata)\n",
        "y_pred = ocsvm.decision_function(sdata).ravel()\n",
        "plt.plot(y_pred)\n",
        "plt.show()"
      ],
      "execution_count": null,
      "outputs": []
    },
    {
      "cell_type": "code",
      "metadata": {
        "id": "o2BKVw26asou"
      },
      "source": [
        "adata=[]\n",
        "files = glob.glob(\"./imgs/others/*\")   \n",
        "for f in files:\n",
        "  print(f)\n",
        "  plt.imshow(mpimg.imread(f))\n",
        "  plt.show()  \n",
        "for f in files:\n",
        "        print(f)\n",
        "        ret= feature_extraction(model, f, 224)\n",
        "        adata.append(ret)\n",
        "adata = np.array(adata)\n",
        "sadata=mmscaler.transform(adata)\n",
        "apred=ocsvm.predict(sadata)\n",
        "a_pca_data =np.array(pca.fit_transform(adata))"
      ],
      "execution_count": null,
      "outputs": []
    },
    {
      "cell_type": "code",
      "metadata": {
        "id": "Co0nnCxpasou"
      },
      "source": [
        "plt.plot(adata[0])\n",
        "plt.show()"
      ],
      "execution_count": null,
      "outputs": []
    },
    {
      "cell_type": "code",
      "metadata": {
        "id": "Prztmawtasou"
      },
      "source": [
        "plt.scatter(pdata.T[0],pdata.T[1])\n",
        "plt.scatter(a_pca_data.T[0][0],a_pca_data.T[1][0],label=\"hyotan\",marker=\"D\")\n",
        "plt.scatter(a_pca_data.T[0][1],a_pca_data.T[1][1],label=\"neko\",marker=\"D\")\n",
        "plt.scatter(a_pca_data.T[0][4],a_pca_data.T[1][4],label=\"elec\",marker=\"D\")\n",
        "plt.scatter(a_pca_data.T[0][6],a_pca_data.T[1][6],label=\"illust\",marker=\"D\")\n",
        "plt.scatter(a_pca_data.T[0][7],a_pca_data.T[1][7],label=\"piano\",marker=\"D\")\n",
        "plt.legend()\n",
        "plt.show()"
      ],
      "execution_count": null,
      "outputs": []
    },
    {
      "cell_type": "code",
      "metadata": {
        "id": "-EmwWlp_asou"
      },
      "source": [
        ""
      ],
      "execution_count": null,
      "outputs": []
    },
    {
      "cell_type": "code",
      "metadata": {
        "id": "n_8i918-asou"
      },
      "source": [
        ""
      ],
      "execution_count": null,
      "outputs": []
    }
  ]
}