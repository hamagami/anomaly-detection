{
  "nbformat": 4,
  "nbformat_minor": 0,
  "metadata": {
    "colab": {
      "name": "AnoGan.ipynb",
      "provenance": [],
      "authorship_tag": "ABX9TyOETZz0qVObwgI3oqkpEK6m",
      "include_colab_link": true
    },
    "kernelspec": {
      "name": "python3",
      "display_name": "Python 3"
    }
  },
  "cells": [
    {
      "cell_type": "markdown",
      "metadata": {
        "id": "view-in-github",
        "colab_type": "text"
      },
      "source": [
        "<a href=\"https://colab.research.google.com/github/hamagami/anomaly-detection/blob/main/AnoGan.ipynb\" target=\"_parent\"><img src=\"https://colab.research.google.com/assets/colab-badge.svg\" alt=\"Open In Colab\"/></a>"
      ]
    },
    {
      "cell_type": "code",
      "metadata": {
        "id": "630kD663AmK3"
      },
      "source": [
        "origina"
      ],
      "execution_count": null,
      "outputs": []
    },
    {
      "cell_type": "markdown",
      "metadata": {
        "id": "Muk2BdsQBR1f"
      },
      "source": [
        "# AnoGan\r\n",
        "original code by https://github.com/yjucho1/anoGAN"
      ]
    },
    {
      "cell_type": "markdown",
      "metadata": {
        "id": "SmGcaCHFBbbd"
      },
      "source": [
        "実行には多くの時間がかかるので，予め学習された結果について確認をしてください。"
      ]
    },
    {
      "cell_type": "code",
      "metadata": {
        "id": "HQ8j-dvOsV7i",
        "colab": {
          "base_uri": "https://localhost:8080/"
        },
        "outputId": "b29d9577-884f-49a8-f8be-98b063f32b49"
      },
      "source": [
        "!wget https://raw.githubusercontent.com/yjucho1/anoGAN/master/anogan.py"
      ],
      "execution_count": 3,
      "outputs": [
        {
          "output_type": "stream",
          "text": [
            "--2020-12-12 12:53:17--  https://raw.githubusercontent.com/yjucho1/anoGAN/master/anogan.py\n",
            "Resolving raw.githubusercontent.com (raw.githubusercontent.com)... 151.101.0.133, 151.101.64.133, 151.101.128.133, ...\n",
            "Connecting to raw.githubusercontent.com (raw.githubusercontent.com)|151.101.0.133|:443... connected.\n",
            "HTTP request sent, awaiting response... 200 OK\n",
            "Length: 4340 (4.2K) [text/plain]\n",
            "Saving to: ‘anogan.py’\n",
            "\n",
            "anogan.py           100%[===================>]   4.24K  --.-KB/s    in 0s      \n",
            "\n",
            "2020-12-12 12:53:18 (29.4 MB/s) - ‘anogan.py’ saved [4340/4340]\n",
            "\n"
          ],
          "name": "stdout"
        }
      ]
    },
    {
      "cell_type": "code",
      "metadata": {
        "colab": {
          "base_uri": "https://localhost:8080/"
        },
        "id": "70tWlfZ6AnuZ",
        "outputId": "7118b1d4-2074-4e30-ab27-c4b31973b034"
      },
      "source": [
        "!wget https://dl.dropbox.com/s/ybmcc7speexqy7l/assets.zip\r\n",
        "!unzip -d . assets.zip"
      ],
      "execution_count": 1,
      "outputs": [
        {
          "output_type": "stream",
          "text": [
            "--2020-12-12 12:52:51--  https://dl.dropbox.com/s/ybmcc7speexqy7l/assets.zip\n",
            "Resolving dl.dropbox.com (dl.dropbox.com)... 162.125.7.15, 2620:100:6016:15::a27d:10f\n",
            "Connecting to dl.dropbox.com (dl.dropbox.com)|162.125.7.15|:443... connected.\n",
            "HTTP request sent, awaiting response... 302 Found\n",
            "Location: https://dl.dropboxusercontent.com/s/ybmcc7speexqy7l/assets.zip [following]\n",
            "--2020-12-12 12:52:51--  https://dl.dropboxusercontent.com/s/ybmcc7speexqy7l/assets.zip\n",
            "Resolving dl.dropboxusercontent.com (dl.dropboxusercontent.com)... 162.125.7.15, 2620:100:6016:15::a27d:10f\n",
            "Connecting to dl.dropboxusercontent.com (dl.dropboxusercontent.com)|162.125.7.15|:443... connected.\n",
            "HTTP request sent, awaiting response... 200 OK\n",
            "Length: 4484408 (4.3M) [application/zip]\n",
            "Saving to: ‘assets.zip’\n",
            "\n",
            "assets.zip          100%[===================>]   4.28M  28.2MB/s    in 0.2s    \n",
            "\n",
            "2020-12-12 12:52:51 (28.2 MB/s) - ‘assets.zip’ saved [4484408/4484408]\n",
            "\n",
            "Archive:  assets.zip\n",
            "  inflating: ./assets/anoGAN.png     \n",
            "  inflating: ./assets/anoGAN2.png    \n",
            "  inflating: ./assets/discrimination.png  \n",
            "  inflating: ./assets/discriminator  \n",
            "  inflating: ./assets/generator      \n",
            "  inflating: ./assets/output_2_0.png  \n",
            "  inflating: ./assets/output_3_0.png  \n",
            "  inflating: ./assets/output_3_2.png  \n",
            "  inflating: ./assets/output_4_0.png  \n",
            "  inflating: ./assets/output_4_2.png  \n",
            "  inflating: ./assets/output_5_1.png  \n",
            "  inflating: ./assets/output_5_3.png  \n",
            "  inflating: ./assets/overall.png    \n",
            "  inflating: ./assets/residual.png   \n",
            "  inflating: ./assets/residual_img.png  \n",
            "  inflating: ./assets/test_img.png   \n"
          ],
          "name": "stdout"
        }
      ]
    },
    {
      "cell_type": "code",
      "metadata": {
        "colab": {
          "base_uri": "https://localhost:8080/"
        },
        "id": "XvziQy91Arka",
        "outputId": "856de85a-82fd-48af-eae8-e045426607ff"
      },
      "source": [
        "import numpy as np\r\n",
        "import matplotlib.pyplot as plt\r\n",
        "from keras.datasets import mnist\r\n",
        "from tqdm import tqdm\r\n",
        "import anogan\r\n",
        "\r\n",
        "(X_train, y_train), (X_test, y_test) = mnist.load_data()\r\n",
        "X_train = X_train.astype(np.float32)/255.\r\n",
        "X_train = X_train.reshape(60000, 28, 28, 1)\r\n",
        "\r\n",
        "\r\n",
        "Model_d, Model_g = anogan.train(32, X_train)"
      ],
      "execution_count": null,
      "outputs": [
        {
          "output_type": "stream",
          "text": [
            "Downloading data from https://storage.googleapis.com/tensorflow/tf-keras-datasets/mnist.npz\n",
            "11493376/11490434 [==============================] - 0s 0us/step\n"
          ],
          "name": "stdout"
        },
        {
          "output_type": "stream",
          "text": [
            "\r  0%|          | 0/200 [00:00<?, ?it/s]"
          ],
          "name": "stderr"
        },
        {
          "output_type": "stream",
          "text": [
            "#### discriminator ######\n",
            "Model: \"sequential\"\n",
            "_________________________________________________________________\n",
            "Layer (type)                 Output Shape              Param #   \n",
            "=================================================================\n",
            "conv2d (Conv2D)              (None, 14, 14, 64)        1664      \n",
            "_________________________________________________________________\n",
            "leaky_re_lu (LeakyReLU)      (None, 14, 14, 64)        0         \n",
            "_________________________________________________________________\n",
            "dropout (Dropout)            (None, 14, 14, 64)        0         \n",
            "_________________________________________________________________\n",
            "conv2d_1 (Conv2D)            (None, 7, 7, 128)         204928    \n",
            "_________________________________________________________________\n",
            "leaky_re_lu_1 (LeakyReLU)    (None, 7, 7, 128)         0         \n",
            "_________________________________________________________________\n",
            "dropout_1 (Dropout)          (None, 7, 7, 128)         0         \n",
            "_________________________________________________________________\n",
            "flatten (Flatten)            (None, 6272)              0         \n",
            "_________________________________________________________________\n",
            "dense (Dense)                (None, 1)                 6273      \n",
            "=================================================================\n",
            "Total params: 212,865\n",
            "Trainable params: 212,865\n",
            "Non-trainable params: 0\n",
            "_________________________________________________________________\n",
            "#### generator ######\n",
            "Model: \"sequential_1\"\n",
            "_________________________________________________________________\n",
            "Layer (type)                 Output Shape              Param #   \n",
            "=================================================================\n",
            "dense_1 (Dense)              (None, 6272)              633472    \n",
            "_________________________________________________________________\n",
            "leaky_re_lu_2 (LeakyReLU)    (None, 6272)              0         \n",
            "_________________________________________________________________\n",
            "reshape (Reshape)            (None, 7, 7, 128)         0         \n",
            "_________________________________________________________________\n",
            "up_sampling2d (UpSampling2D) (None, 14, 14, 128)       0         \n",
            "_________________________________________________________________\n",
            "conv2d_2 (Conv2D)            (None, 14, 14, 64)        204864    \n",
            "_________________________________________________________________\n",
            "leaky_re_lu_3 (LeakyReLU)    (None, 14, 14, 64)        0         \n",
            "_________________________________________________________________\n",
            "up_sampling2d_1 (UpSampling2 (None, 28, 28, 64)        0         \n",
            "_________________________________________________________________\n",
            "conv2d_3 (Conv2D)            (None, 28, 28, 1)         1601      \n",
            "=================================================================\n",
            "Total params: 839,937\n",
            "Trainable params: 839,937\n",
            "Non-trainable params: 0\n",
            "_________________________________________________________________\n"
          ],
          "name": "stdout"
        }
      ]
    },
    {
      "cell_type": "code",
      "metadata": {
        "id": "9e8c1LXGAvWC"
      },
      "source": [
        "## generate random image \r\n",
        "\r\n",
        "generated_img = anogan.generate(3)\r\n",
        "plt.figure(figsize=(2, 2))\r\n",
        "plt.imshow(generated_img[0].reshape(28, 28),cmap=plt.cm.gray)\r\n",
        "plt.show()"
      ],
      "execution_count": null,
      "outputs": []
    },
    {
      "cell_type": "code",
      "metadata": {
        "id": "PV2GhMr5A43j"
      },
      "source": [
        "## compute anomaly score - sample from test set\r\n",
        "\r\n",
        "X_test = X_test.astype(np.float32)/255.\r\n",
        "X_test = X_test.reshape(-1, 28, 28, 1)\r\n",
        "test_img = X_test[0]\r\n",
        "\r\n",
        "model = anogan.anomaly_detector()\r\n",
        "ano_score, similar_img = anogan.compute_anomaly_score(model, test_img.reshape(1, 28, 28, 1))\r\n",
        "\r\n",
        "plt.figure(figsize=(2, 2))\r\n",
        "plt.imshow(test_img.reshape(28,28), cmap=plt.cm.gray)\r\n",
        "plt.show()\r\n",
        "print(\"anomaly score : \" + str(ano_score))\r\n",
        "plt.figure(figsize=(2, 2))\r\n",
        "plt.imshow(test_img.reshape(28,28), cmap=plt.cm.gray)\r\n",
        "residual  = test_img.reshape(28,28) - similar_img.reshape(28, 28)\r\n",
        "plt.imshow(residual, cmap='jet', alpha=.5)\r\n",
        "plt.show()"
      ],
      "execution_count": null,
      "outputs": []
    },
    {
      "cell_type": "code",
      "metadata": {
        "id": "rJhmPBonA8JM"
      },
      "source": [
        "## compute anomaly score - sample from strange image\r\n",
        "\r\n",
        "test_img = plt.imread('assets/test_img.png')\r\n",
        "test_img = test_img[:,:,0]\r\n",
        "\r\n",
        "model = anogan.anomaly_detector()\r\n",
        "ano_score, similar_img = anogan.compute_anomaly_score(model, test_img.reshape(1, 28, 28, 1))\r\n",
        "\r\n",
        "plt.figure(figsize=(2, 2))\r\n",
        "plt.imshow(test_img.reshape(28,28), cmap=plt.cm.gray)\r\n",
        "plt.show()\r\n",
        "print(\"anomaly score : \" + str(ano_score))\r\n",
        "plt.figure(figsize=(2, 2))\r\n",
        "plt.imshow(test_img.reshape(28,28), cmap=plt.cm.gray)\r\n",
        "residual  = test_img.reshape(28,28) - similar_img.reshape(28, 28)\r\n",
        "plt.imshow(residual, cmap='jet', alpha=.5)\r\n",
        "plt.show()\r\n"
      ],
      "execution_count": null,
      "outputs": []
    },
    {
      "cell_type": "code",
      "metadata": {
        "id": "InOVoXJmA-Uh"
      },
      "source": [
        "from sklearn.manifold import TSNE\r\n",
        "\r\n",
        "## t-SNE embedding \r\n",
        "\r\n",
        "# generating anomaly image for test (radom noise image)\r\n",
        "\r\n",
        "random_image = np.random.uniform(0,1, (100, 28,28, 1))\r\n",
        "print(\"a sample from generated anomaly images(random noise image)\")\r\n",
        "plt.figure(figsize=(2, 2))\r\n",
        "plt.imshow(random_image[0].reshape(28,28), cmap=plt.cm.gray)\r\n",
        "plt.show()\r\n",
        "\r\n",
        "# intermidieate output of discriminator\r\n",
        "model = anogan.feature_extractor()\r\n",
        "feature_map_of_random = model.predict(random_image, verbose=1)\r\n",
        "feature_map_of_minist = model.predict(X_test[:300], verbose=1)\r\n",
        "\r\n",
        "# t-SNE for visulization\r\n",
        "output = np.concatenate((feature_map_of_random, feature_map_of_minist))\r\n",
        "output = output.reshape(output.shape[0], -1)\r\n",
        "anomaly_flag = np.array([1]*100+ [0]*300)\r\n",
        "\r\n",
        "X_embedded = TSNE(n_components=2).fit_transform(output)\r\n",
        "plt.title(\"t-SNE embedding on the feature representation\")\r\n",
        "plt.scatter(X_embedded[:100,0], X_embedded[:100,1], label='random noise(anomaly)')\r\n",
        "plt.scatter(X_embedded[100:,0], X_embedded[100:,1], label='minist(normal)')\r\n",
        "plt.legend()\r\n",
        "plt.show()"
      ],
      "execution_count": null,
      "outputs": []
    },
    {
      "cell_type": "code",
      "metadata": {
        "id": "9jBcRma7BDnN"
      },
      "source": [
        ""
      ],
      "execution_count": null,
      "outputs": []
    }
  ]
}