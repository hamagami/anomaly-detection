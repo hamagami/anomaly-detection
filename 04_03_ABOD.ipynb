{
  "nbformat": 4,
  "nbformat_minor": 0,
  "metadata": {
    "kernelspec": {
      "display_name": "Python 3",
      "language": "python",
      "name": "python3"
    },
    "language_info": {
      "codemirror_mode": {
        "name": "ipython",
        "version": 3
      },
      "file_extension": ".py",
      "mimetype": "text/x-python",
      "name": "python",
      "nbconvert_exporter": "python",
      "pygments_lexer": "ipython3",
      "version": "3.7.3"
    },
    "colab": {
      "name": "04_03_ABOD.ipynb",
      "provenance": []
    }
  },
  "cells": [
    {
      "cell_type": "markdown",
      "metadata": {
        "id": "w5DLNYMaqIkD"
      },
      "source": [
        "# ABOD"
      ]
    },
    {
      "cell_type": "code",
      "metadata": {
        "id": "3npZ77UBqIkJ"
      },
      "source": [
        "import numpy as np\n",
        "import itertools\n",
        "from sklearn.neighbors import NearestNeighbors\n",
        "import matplotlib.pyplot as plt\n",
        "\n",
        "class FastABOD:\n",
        "    def __init__(self, n_neighbors):\n",
        "        self.n_neighbors = n_neighbors\n",
        "\n",
        "    def fit_predict(self, X, contamination=0.1):\n",
        "        # 各点のk最近傍を求める\n",
        "        k_nearest = NearestNeighbors(n_neighbors=self.n_neighbors).fit(X)\n",
        "        distances, indices = k_nearest.kneighbors(X)\n",
        "        # k最近傍との角度を求めるための組み合わせ計算\n",
        "        numbers = [i + 1 for i in range(distances.shape[1] - 1)]\n",
        "        combs = list(itertools.combinations(numbers, 2))\n",
        "        # ABOFを求める\n",
        "        abofs = []\n",
        "        for i in range(len(X)):\n",
        "            x = X[indices[i]]\n",
        "            abof = self._compute_abof(x, combs)\n",
        "            abofs.append(abof)\n",
        "        # ABOFスコア下位N%を異常と見なす\n",
        "        ordered_abofs = np.argsort(abofs)\n",
        "        anomaly_indices = ordered_abofs[:int(len(abofs)*contamination + 0.5)]\n",
        "        # scikit-learnに倣って正常を1、異常を-1として返す\n",
        "        prediction = np.ones((len(abofs)), dtype=np.int)\n",
        "        prediction[anomaly_indices] = -1\n",
        "        return prediction\n",
        "\n",
        "    def _compute_abof(self, x, combs):\n",
        "        numerator1 = 0\n",
        "        numerator2 = 0\n",
        "        denominator1 = 0\n",
        "        for comb in combs:\n",
        "            AB = x[comb[0]] - x[0]\n",
        "            AC = x[comb[1]] - x[0]\n",
        "            AB_norm = np.linalg.norm(AB)\n",
        "            AC_norm = np.linalg.norm(AC)\n",
        "            a = 1 / (AB_norm * AC_norm)\n",
        "            b = np.dot(AB, AC) / ((AB_norm ** 2) * (AC_norm ** 2))\n",
        "            numerator1 += a * (b ** 2)\n",
        "            denominator1 += a\n",
        "            numerator2 += a * b\n",
        "        denominator2 = denominator1\n",
        "        return numerator1 / denominator1 - (numerator2 / denominator2) ** 2"
      ],
      "execution_count": null,
      "outputs": []
    },
    {
      "cell_type": "code",
      "metadata": {
        "id": "H_D0l2cuqIkK"
      },
      "source": [
        "#np.random.seed(42)\n",
        "\n",
        "# Generate train data\n",
        "X = 0.3 * np.random.randn(100, 2)\n",
        "# Generate some abnormal novel observations\n",
        "X_outliers = np.random.uniform(low=-4, high=4, size=(20, 2))\n",
        "X = np.r_[X + 2, X - 2, X_outliers]\n"
      ],
      "execution_count": null,
      "outputs": []
    },
    {
      "cell_type": "code",
      "metadata": {
        "id": "GGKP6aJDqIkK"
      },
      "source": [
        "\n",
        "# fit the model\n",
        "clf = FastABOD(n_neighbors=10)\n",
        "# 全体の9%が異常データ\n",
        "contamination = 0.09\n",
        "y_pred = clf.fit_predict(X, contamination)\n",
        "# 正常を1、異常を-1と出力します\n",
        "ANOMALY_DATA = -1\n",
        "predicted_outlier_index = np.where(y_pred == ANOMALY_DATA)\n",
        "predicted_outlier = X[predicted_outlier_index]\n"
      ],
      "execution_count": null,
      "outputs": []
    },
    {
      "cell_type": "code",
      "metadata": {
        "id": "XtZ6Xj2UqIkK"
      },
      "source": [
        "\n",
        "# plot the level sets of the decision function\n",
        "xx, yy = np.meshgrid(np.linspace(-5, 5, 50), np.linspace(-5, 5, 50))\n",
        "#Z = clf._decision_function(np.c_[xx.ravel(), yy.ravel()])\n",
        "#Z = Z.reshape(xx.shape)\n",
        "\n",
        "plt.title(\"Fast Angle Based Outlier Detection (FastABOD)\")\n",
        "#plt.contourf(xx, yy, Z, cmap=plt.cm.Blues_r)\n",
        "\n",
        "a = plt.scatter(X[:200, 0], X[:200, 1], c='yellow',\n",
        "                edgecolor='k', s=30, marker='o')\n",
        "b = plt.scatter(X[200:, 0], X[200:, 1], c='red',\n",
        "                edgecolor='k', s=30, marker='o')\n",
        "c = plt.scatter(predicted_outlier[:, 0], predicted_outlier[:, 1], c='blue',\n",
        "                edgecolor='k', s=10, marker='x')\n",
        "plt.axis('tight')\n",
        "plt.xlim((-5, 5))\n",
        "plt.ylim((-5, 5))\n",
        "plt.legend([a, b, c],\n",
        "           [\"normal observations\",\n",
        "#            \"abnormal observations\",\n",
        "            \"observations predicted as abnormal\"],\n",
        "           loc=\"upper left\", prop={'size': 12})\n",
        "plt.show()\n"
      ],
      "execution_count": null,
      "outputs": []
    },
    {
      "cell_type": "code",
      "metadata": {
        "id": "505wR0PWqIkL"
      },
      "source": [
        ""
      ],
      "execution_count": null,
      "outputs": []
    },
    {
      "cell_type": "code",
      "metadata": {
        "id": "pEJNQpvDqIkM"
      },
      "source": [
        ""
      ],
      "execution_count": null,
      "outputs": []
    }
  ]
}