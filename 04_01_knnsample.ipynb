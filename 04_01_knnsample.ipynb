{
  "nbformat": 4,
  "nbformat_minor": 0,
  "metadata": {
    "kernelspec": {
      "display_name": "Python 3",
      "language": "python",
      "name": "python3"
    },
    "language_info": {
      "codemirror_mode": {
        "name": "ipython",
        "version": 3
      },
      "file_extension": ".py",
      "mimetype": "text/x-python",
      "name": "python",
      "nbconvert_exporter": "python",
      "pygments_lexer": "ipython3",
      "version": "3.7.3"
    },
    "colab": {
      "name": "04_01_knnsample.ipynb",
      "provenance": []
    }
  },
  "cells": [
    {
      "cell_type": "markdown",
      "metadata": {
        "id": "m9rM6_8xhb4r"
      },
      "source": [
        "# k近傍法およびLoF(Local Outlier Factor) による時系列異常検知\r\n",
        "サンプル密度を用いて外れ検知を行う方法は，次元がそれほど多くない場合には直観的にわかりやすい方法です。k近傍法(KNN)とそれを一般化したLoFがよく使われています。\r\n",
        "ここでは，波形の特徴量として，波形そのものを使った場合と，ヒストグラム（HBOS)を使った場合を比べてみます。"
      ]
    },
    {
      "cell_type": "markdown",
      "metadata": {
        "id": "U3UfvEbjhb4z"
      },
      "source": [
        "### 必要なモジュールのimport"
      ]
    },
    {
      "cell_type": "code",
      "metadata": {
        "id": "VIDz4qIMhb40"
      },
      "source": [
        "import numpy as np\n",
        "import matplotlib.pyplot as plt\n",
        "from sklearn.neighbors import NearestNeighbors #k近傍法\n",
        "from sklearn.neighbors import LocalOutlierFactor #LoF\n"
      ],
      "execution_count": null,
      "outputs": []
    },
    {
      "cell_type": "markdown",
      "metadata": {
        "id": "9nYuf5i_hb41"
      },
      "source": [
        "### セグメントの切り出し関数"
      ]
    },
    {
      "cell_type": "code",
      "metadata": {
        "id": "ZTqLDs6MqZ8N"
      },
      "source": [
        "from scipy import signal\r\n",
        "#ヒストグラム　\r\n",
        "def gethist(lst,range=(0,10),bins=25):\r\n",
        "    win= signal.hann(len(lst)) \r\n",
        "    hist, bins= np.histogram(win*lst, bins, range)\r\n",
        "    return hist, bins"
      ],
      "execution_count": 14,
      "outputs": []
    },
    {
      "cell_type": "code",
      "metadata": {
        "id": "FBmpnw7_qSWY"
      },
      "source": [
        "def segdata(lst, dim): #lst:１次元系列　dim:セグメントの幅\r\n",
        "    segs = np.empty((0,dim), float)#0×dimの空配列\r\n",
        "    hists = np.empty((0,25), float)#0×dimの空配列\r\n",
        "    for i in range(lst.size - dim + 1):#1つづつずらしながらセグメントをつくっている。最後のセグメントの開始点は lst.size-dim\r\n",
        "        hist,bins= gethist(lst[i:i+dim])\r\n",
        "        \r\n",
        "        seg=np.array(lst[i:i+dim][::-1].reshape((1,-1))) #セグメントの切り出し，時系列反転，appendのための2次ベクトル化\r\n",
        "        hist=hist.reshape((1,-1))\r\n",
        "        hists = np.append(hists,hist,axis=0)\r\n",
        "        segs = np.append(segs,seg,axis=0)\r\n",
        "\r\n",
        "    return segs, hists"
      ],
      "execution_count": null,
      "outputs": []
    },
    {
      "cell_type": "markdown",
      "metadata": {
        "id": "IImfCx4ihb41"
      },
      "source": [
        "### データ読み込み，パラメータ設定\n",
        " Keoghらの心電図のデータ  http://www.cs.ucr.edu/~eamonn/discords/qtdbsel102.txt\n",
        " Keogh, E., Lin, J. and Fu, A.: HOT SAX : Efficiently Finding the Most Unusual Time Series Subsequence, in Proceedings of the Fifth IEEE International Conference on Data Mining, ICDM 05, pp.226-233."
      ]
    },
    {
      "cell_type": "code",
      "metadata": {
        "id": "8EMAVH3Yr7J-"
      },
      "source": [
        "from scipy import fftpack\r\n",
        "from scipy import signal\r\n",
        "def getdata():\r\n",
        "  !wget \"www.dropbox.com/s/x3fmb9mxr4xkip3/qtdbsel102.txt\" #ローカルにコピーしてくる\r\n",
        "  LEN=3000  #分析区間\r\n",
        "\r\n",
        "  SP=0         #学習用データの開始点\r\n",
        "  AP=3000   #テスト用データの開始点　個のデータの場合 4250ポイント付近に異常がある\r\n",
        "  data = np.loadtxt(\"qtdbsel102.txt\",delimiter=\"\\t\")\r\n",
        "  print(\"データ数:\",data.shape[0],\"  次元数:\",data.shape[1])\r\n",
        "\r\n",
        "  #元データは3次元の時系列，3次のデータ(indexとしては2)を指定して学習/テストデータに分割\r\n",
        "  train_org = data[SP:SP+LEN, 2]      #学習用データとして 1～2999サンプル区間を使用\r\n",
        "  test_org  = data[AP:AP+LEN, 2]    #テスト用データとして3000～5999サンプルを使用\r\n",
        "  \r\n",
        "  #x軸\r\n",
        "  x=np.arange(SP,SP+LEN)\r\n",
        "\r\n",
        "  return x, train_org, test_org"
      ],
      "execution_count": null,
      "outputs": []
    },
    {
      "cell_type": "code",
      "metadata": {
        "id": "-o7d_K6LrvfK"
      },
      "source": [
        "x, train_org, test_org = getdata()\r\n",
        "\r\n",
        "plt.plot(x,train_org)\r\n",
        "plt.title(\"train\")\r\n",
        "plt.legend()\r\n",
        "plt.show()\r\n",
        "plt.plot(x,test_org)\r\n",
        "plt.title(\"test with anomaly\")\r\n",
        "plt.legend()\r\n",
        "plt.show()"
      ],
      "execution_count": null,
      "outputs": []
    },
    {
      "cell_type": "code",
      "metadata": {
        "id": "N0p_ElUiOhC7"
      },
      "source": [
        "WLEN=256#セグメントのサイズ\r\n",
        "train_seg, train_hist= segdata(train_org, WLEN)\r\n",
        "test_seg, test_hist = segdata(test_org, WLEN)"
      ],
      "execution_count": null,
      "outputs": []
    },
    {
      "cell_type": "code",
      "metadata": {
        "id": "vi0vWfbBO4NO"
      },
      "source": [
        "plt.plot(train_hist.T)\r\n",
        "plt.show()\r\n",
        "plt.plot(test_hist.T)\r\n",
        "plt.show()"
      ],
      "execution_count": null,
      "outputs": []
    },
    {
      "cell_type": "markdown",
      "metadata": {
        "id": "5AR8n1MRhb45"
      },
      "source": [
        "## k近傍学習（学習データ）"
      ]
    },
    {
      "cell_type": "code",
      "metadata": {
        "id": "u9y4W2JDhb45"
      },
      "source": [
        "nk = 1#近傍数\n",
        "\n",
        "#波形の場合\n",
        "knn = NearestNeighbors(n_neighbors=nk)\n",
        "knn.fit(train_seg)\n",
        "\n",
        "#ヒストグラムの場合\n",
        "knn_hist=NearestNeighbors(n_neighbors=nk)\n",
        "knn_hist.fit(train_hist)"
      ],
      "execution_count": null,
      "outputs": []
    },
    {
      "cell_type": "markdown",
      "metadata": {
        "id": "wPRG-gfshb46"
      },
      "source": [
        "## LoF"
      ]
    },
    {
      "cell_type": "code",
      "metadata": {
        "id": "vb7CqlnAhb46"
      },
      "source": [
        "nk=5\n",
        "lof = LocalOutlierFactor(n_neighbors=nk,\n",
        "                           novelty=True,\n",
        "                           contamination=0.1)\n",
        "\n",
        "lof_hist = LocalOutlierFactor(n_neighbors=nk,\n",
        "                           novelty=True,\n",
        "                           contamination=0.1)\n",
        "\n",
        "lof.fit(train_seg) # train_dataは正常データが大多数であるような訓練データ\n",
        "lof_hist.fit(train_hist)"
      ],
      "execution_count": null,
      "outputs": []
    },
    {
      "cell_type": "markdown",
      "metadata": {
        "id": "NUX50rHFhb46"
      },
      "source": [
        "## 未知データに対する評価"
      ]
    },
    {
      "cell_type": "markdown",
      "metadata": {
        "id": "ye8vsKtuhb47"
      },
      "source": [
        "## knnの結果"
      ]
    },
    {
      "cell_type": "code",
      "metadata": {
        "id": "AB6IyLG7hb47"
      },
      "source": [
        "# knn.fitで使った学習データを用いてk近傍距離(0次に格納される)を求める\n",
        "dist = knn.kneighbors(test_seg)[0]\n",
        "dist_hist= knn_hist.kneighbors(test_hist)[0]\n",
        "\n",
        "# 最大距離で正規化しておく。つまり0～1.0にboundする。\n",
        "dist= dist/np.max(dist)\n",
        "dist_hist = dist_hist/np.max(dist_hist)"
      ],
      "execution_count": null,
      "outputs": []
    },
    {
      "cell_type": "markdown",
      "metadata": {
        "id": "m2p1K4IEhb47"
      },
      "source": [
        "## LoFの結果"
      ]
    },
    {
      "cell_type": "code",
      "metadata": {
        "id": "xTF44LSqhb47"
      },
      "source": [
        "# lof\n",
        "prediction = lof.predict(test_seg) # テストデータに対する予測\n",
        "prediction_hist = lof_hist.predict(test_hist)\n",
        "\n",
        "score = lof.score_samples(test_seg) # テストデータの異常度\n",
        "score_hist = lof_hist.score_samples(test_hist)\n",
        "\n",
        "score=score/np.min(score)\n",
        "score_hist=score_hist/np.min(score_hist)"
      ],
      "execution_count": null,
      "outputs": []
    },
    {
      "cell_type": "markdown",
      "metadata": {
        "id": "-qITbAnXiG9y"
      },
      "source": [
        "## 波形を直接用いた異常検知の結果"
      ]
    },
    {
      "cell_type": "code",
      "metadata": {
        "id": "Kr_fwpSVhb48"
      },
      "source": [
        "#テストデータ\n",
        "plt.title(\"KNN result\")\n",
        "outlier_rows = [i for i in range(len(dist)) if dist[i]>0.4]\n",
        "for c in outlier_rows:\n",
        "    plt.axvspan(c, c, color = \"skyblue\")\n",
        "\n",
        "plt.plot(test_org)\n",
        "plt.show()\n",
        "\n",
        "plt.title(\"LoF result\")\n",
        "outlier_rows = [i for i in range(len(score)) if score[i]>0.4]\n",
        "for c in outlier_rows:\n",
        "    plt.axvspan(c, c, color = \"coral\")\n",
        "plt.plot(test_org)\n",
        "plt.show()\n",
        "\n",
        "\n",
        "#距離データ\n",
        "plt.title(\"distance\")\n",
        "plt.plot(dist,label=\"knn\")\n",
        "plt.plot(score,label=\"lof\")\n",
        "plt.legend()\n",
        "plt.show()"
      ],
      "execution_count": null,
      "outputs": []
    },
    {
      "cell_type": "markdown",
      "metadata": {
        "id": "Dl-eNlTbiMIC"
      },
      "source": [
        "## ヒストグラム特徴を用いた異常検知の結果"
      ]
    },
    {
      "cell_type": "code",
      "metadata": {
        "id": "2ewtMhsThb48"
      },
      "source": [
        "#テストデータ\r\n",
        "plt.title(\"KNN hist result\")\r\n",
        "outlier_rows = [i for i in range(len(dist_hist)) if dist_hist[i]>0.9]\r\n",
        "for c in outlier_rows:\r\n",
        "    plt.axvspan(c, c+WLEN, color = \"skyblue\")\r\n",
        "\r\n",
        "plt.plot(test_org)\r\n",
        "plt.show()\r\n",
        "\r\n",
        "plt.title(\"LoF hist result\")\r\n",
        "outlier_rows = [i for i in range(len(score_hist)) if score_hist[i]>0.4]\r\n",
        "for c in outlier_rows:\r\n",
        "    plt.axvspan(c, c+WLEN, color = \"coral\")\r\n",
        "plt.plot(test_org)\r\n",
        "plt.show()\r\n",
        "\r\n",
        "\r\n",
        "#距離データ\r\n",
        "plt.title(\"distance\")\r\n",
        "plt.plot(dist_hist,label=\"knn\")\r\n",
        "plt.plot(score_hist,label=\"lof\")\r\n",
        "plt.legend()\r\n",
        "plt.show()"
      ],
      "execution_count": null,
      "outputs": []
    },
    {
      "cell_type": "code",
      "metadata": {
        "id": "_d2qnWZjhb48"
      },
      "source": [
        ""
      ],
      "execution_count": null,
      "outputs": []
    },
    {
      "cell_type": "code",
      "metadata": {
        "id": "vavNjCcjhb48"
      },
      "source": [
        ""
      ],
      "execution_count": null,
      "outputs": []
    }
  ]
}