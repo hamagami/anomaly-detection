{
  "nbformat": 4,
  "nbformat_minor": 0,
  "metadata": {
    "kernelspec": {
      "display_name": "Python 3",
      "language": "python",
      "name": "python3"
    },
    "language_info": {
      "codemirror_mode": {
        "name": "ipython",
        "version": 3
      },
      "file_extension": ".py",
      "mimetype": "text/x-python",
      "name": "python",
      "nbconvert_exporter": "python",
      "pygments_lexer": "ipython3",
      "version": "3.7.3"
    },
    "colab": {
      "name": "04_01_knnsample.ipynb",
      "provenance": []
    }
  },
  "cells": [
    {
      "cell_type": "markdown",
      "metadata": {
        "id": "m9rM6_8xhb4r"
      },
      "source": [
        "# k近傍法およびLoF(Local Outlier Factor) による時系列異常検知"
      ]
    },
    {
      "cell_type": "markdown",
      "metadata": {
        "id": "U3UfvEbjhb4z"
      },
      "source": [
        "### 必要なモジュールのimport"
      ]
    },
    {
      "cell_type": "code",
      "metadata": {
        "id": "VIDz4qIMhb40"
      },
      "source": [
        "import numpy as np\n",
        "import matplotlib.pyplot as plt\n",
        "from sklearn.neighbors import NearestNeighbors #k近傍法\n",
        "from sklearn.neighbors import LocalOutlierFactor #LoF"
      ],
      "execution_count": null,
      "outputs": []
    },
    {
      "cell_type": "markdown",
      "metadata": {
        "id": "9nYuf5i_hb41"
      },
      "source": [
        "### セグメントの切り出し関数"
      ]
    },
    {
      "cell_type": "code",
      "metadata": {
        "id": "lCSyW2uyhb41"
      },
      "source": [
        "def segdata(lst, dim):\n",
        "    emb = np.empty((0,dim), float)\n",
        "    for i in range(lst.size - dim + 1):\n",
        "        tmp = np.array(lst[i:i+dim])[::-1].reshape((1,-1)) #セグメントの切り出し，時系列反転，appendのための2次ベクトル化\n",
        "        emb = np.append( emb, tmp, axis=0)\n",
        "    return emb"
      ],
      "execution_count": null,
      "outputs": []
    },
    {
      "cell_type": "markdown",
      "metadata": {
        "id": "IImfCx4ihb41"
      },
      "source": [
        "### データ読み込み，パラメータ設定\n",
        " Keoghらの心電図のデータ  http://www.cs.ucr.edu/~eamonn/discords/qtdbsel102.txt\n",
        " Keogh, E., Lin, J. and Fu, A.: HOT SAX : Efficiently Finding the Most Unusual Time Series Subsequence, in Proceedings of the Fifth IEEE International Conference on Data Mining, ICDM 05, pp.226-233."
      ]
    },
    {
      "cell_type": "code",
      "metadata": {
        "id": "Glrg9PY4ijWf"
      },
      "source": [
        "!wget \"www.dropbox.com/s/x3fmb9mxr4xkip3/qtdbsel102.txt\""
      ],
      "execution_count": null,
      "outputs": []
    },
    {
      "cell_type": "code",
      "metadata": {
        "id": "8_FmNztYhb42"
      },
      "source": [
        "LEN=3000  #分析区間\n",
        "WLEN=100 #セグメントのサイズ\n",
        "SP=0         #学習用データの開始点\n",
        "AP=3000   #テスト用データの開始点　個のデータの場合 4250ポイント付近に異常がある"
      ],
      "execution_count": null,
      "outputs": []
    },
    {
      "cell_type": "code",
      "metadata": {
        "id": "2JLFS5Y7hb42"
      },
      "source": [
        "data = np.loadtxt(\"qtdbsel102.txt\",delimiter=\"\\t\")\n",
        "print(\"データ数:\",data.shape[0],\"  次元数:\",data.shape[1])\n",
        "\n",
        "#元データは3次元の時系列，3次のデータ(indexとしては2)を指定して学習/テストデータに分割\n",
        "train_org = data[SP:SP+LEN, 2]      #学習用データとして 1～2999サンプル区間を使用\n",
        "#学習データ\n",
        "plt.title(\"train org\")\n",
        "x=np.arange(SP,SP+LEN)\n",
        "plt.plot(x,train_org)\n",
        "plt.legend()\n",
        "plt.show()\n"
      ],
      "execution_count": null,
      "outputs": []
    },
    {
      "cell_type": "markdown",
      "metadata": {
        "id": "hc3b0TtNhb44"
      },
      "source": [
        "### 窓関数の設定と切り出し"
      ]
    },
    {
      "cell_type": "code",
      "metadata": {
        "id": "ustUnbBghb44"
      },
      "source": [
        "seglen = WLEN   #Window size\n",
        "#winlenの単位で1ポイントずつずらした2次元表現に変換\n",
        "train = segdata(train_org, seglen)\n"
      ],
      "execution_count": null,
      "outputs": []
    },
    {
      "cell_type": "markdown",
      "metadata": {
        "id": "5AR8n1MRhb45"
      },
      "source": [
        "## k近傍学習（学習データ）"
      ]
    },
    {
      "cell_type": "code",
      "metadata": {
        "id": "u9y4W2JDhb45"
      },
      "source": [
        "nk = 1#近傍数\n",
        "knn = NearestNeighbors(n_neighbors=nk)\n",
        "knn.fit(train)"
      ],
      "execution_count": null,
      "outputs": []
    },
    {
      "cell_type": "markdown",
      "metadata": {
        "id": "wPRG-gfshb46"
      },
      "source": [
        "## LoF"
      ]
    },
    {
      "cell_type": "code",
      "metadata": {
        "id": "vb7CqlnAhb46"
      },
      "source": [
        "lof = LocalOutlierFactor(n_neighbors=nk,\n",
        "                           novelty=True,\n",
        "                           contamination=0.1)\n",
        "lof.fit(train) # train_dataは正常データが大多数であるような訓練データ"
      ],
      "execution_count": null,
      "outputs": []
    },
    {
      "cell_type": "markdown",
      "metadata": {
        "id": "NUX50rHFhb46"
      },
      "source": [
        "## 未知データに対する評価"
      ]
    },
    {
      "cell_type": "code",
      "metadata": {
        "id": "hmhB84zthb47"
      },
      "source": [
        "test_org  = data[AP:AP+LEN, 2]  #テスト用データとして3000～5999サンプルを使用\n",
        "test =  segdata(test_org, seglen)\n",
        "\n",
        "\n",
        "\n"
      ],
      "execution_count": null,
      "outputs": []
    },
    {
      "cell_type": "markdown",
      "metadata": {
        "id": "ye8vsKtuhb47"
      },
      "source": [
        "## knnの結果"
      ]
    },
    {
      "cell_type": "code",
      "metadata": {
        "id": "AB6IyLG7hb47"
      },
      "source": [
        "# knn.fitで使った学習データを用いて最近傍距離(0次に格納される)を求める\n",
        "dist = knn.kneighbors(test)[0]\n",
        "anop_knn= np.argmax(dist)\n",
        "# 最大距離で正規化しておく。つまり0～1.0にboundする。\n",
        "dist= dist/np.max(dist)"
      ],
      "execution_count": null,
      "outputs": []
    },
    {
      "cell_type": "markdown",
      "metadata": {
        "id": "m2p1K4IEhb47"
      },
      "source": [
        "## LoFの結果"
      ]
    },
    {
      "cell_type": "code",
      "metadata": {
        "id": "xTF44LSqhb47"
      },
      "source": [
        "# lof\n",
        "prediction = lof.predict(test) # テストデータに対する予測\n",
        "score = lof.score_samples(test) # テストデータの異常度\n",
        "score=score/np.min(score)\n",
        "anop_lof=np.argmax(score)"
      ],
      "execution_count": null,
      "outputs": []
    },
    {
      "cell_type": "code",
      "metadata": {
        "id": "Kr_fwpSVhb48"
      },
      "source": [
        "\n",
        "\n",
        "#テストデータ\n",
        "plt.title(\"KNN result\")\n",
        "x=np.arange(AP,AP+LEN)\n",
        "plt.axvspan(AP+anop_knn-WLEN/2, AP+anop_knn+WLEN/2, color = \"skyblue\")\n",
        "plt.plot(x,test_org)\n",
        "plt.show()\n",
        "\n",
        "plt.title(\"LoF result\")\n",
        "plt.axvspan(AP+anop_lof-WLEN/2, AP+anop_lof+WLEN/2, color = \"coral\")\n",
        "plt.plot(x,test_org)\n",
        "plt.show()\n",
        "\n",
        "\n",
        "#距離データ\n",
        "plt.title(\"distance\")\n",
        "x=np.arange(AP+WLEN/2,AP+WLEN/2+len(dist))\n",
        "plt.plot(x,dist,label=\"knn\")\n",
        "plt.plot(x,score,label=\"lof\")\n",
        "plt.legend()\n",
        "plt.show()"
      ],
      "execution_count": null,
      "outputs": []
    },
    {
      "cell_type": "code",
      "metadata": {
        "id": "2ewtMhsThb48"
      },
      "source": [
        ""
      ],
      "execution_count": null,
      "outputs": []
    },
    {
      "cell_type": "code",
      "metadata": {
        "id": "_d2qnWZjhb48"
      },
      "source": [
        ""
      ],
      "execution_count": null,
      "outputs": []
    },
    {
      "cell_type": "code",
      "metadata": {
        "id": "vavNjCcjhb48"
      },
      "source": [
        ""
      ],
      "execution_count": null,
      "outputs": []
    }
  ]
}