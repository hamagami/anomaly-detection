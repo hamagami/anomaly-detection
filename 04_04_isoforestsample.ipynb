{
  "nbformat": 4,
  "nbformat_minor": 0,
  "metadata": {
    "kernelspec": {
      "display_name": "Python 3",
      "language": "python",
      "name": "python3"
    },
    "language_info": {
      "codemirror_mode": {
        "name": "ipython",
        "version": 3
      },
      "file_extension": ".py",
      "mimetype": "text/x-python",
      "name": "python",
      "nbconvert_exporter": "python",
      "pygments_lexer": "ipython3",
      "version": "3.7.3"
    },
    "colab": {
      "name": "04_04_isoforestsample.ipynb",
      "provenance": []
    }
  },
  "cells": [
    {
      "cell_type": "markdown",
      "metadata": {
        "id": "5Vt4tBOmqW2V"
      },
      "source": [
        "# Isoration Forest 時系列異常検知\r\n",
        "データを木構造で分類したとき，めったに出てこないサンプルの特徴は，木を深くしないと現れないという特徴を利用して外れ検知を行います。密度に基づく方法という意味では，kNNやLoFと似ていますが，空間を分割するため高次元でも計算量が爆発しないという利点があります。"
      ]
    },
    {
      "cell_type": "markdown",
      "metadata": {
        "id": "jYRaJx_IqW2W"
      },
      "source": [
        "### 必要なモジュールのimport"
      ]
    },
    {
      "cell_type": "code",
      "metadata": {
        "id": "vOzsSwoZqW2X"
      },
      "source": [
        "import numpy as np\n",
        "import matplotlib.pyplot as plt\n",
        "from sklearn.ensemble import IsolationForest"
      ],
      "execution_count": null,
      "outputs": []
    },
    {
      "cell_type": "markdown",
      "metadata": {
        "id": "LU-3-93RqW2X"
      },
      "source": [
        "### セグメントの切り出し関数"
      ]
    },
    {
      "cell_type": "code",
      "metadata": {
        "id": "1HR4trpeqW2Y"
      },
      "source": [
        "def segdata(lst, dim): #lst:１次元系列　dim:セグメントの幅\n",
        "    emb = np.empty((0,dim), float)#0×dimの空配列\n",
        "    for i in range(lst.size - dim + 1):#1つづつずらしながらセグメントをつくっている。最後のセグメントの開始点は lst.size-dim\n",
        "        tmp = np.array(lst[i:i+dim])[::-1].reshape((1,-1)) #セグメントの切り出し，時系列反転，appendのための2次ベクトル化\n",
        "        emb = np.append( emb, tmp, axis=0)\n",
        "    return emb"
      ],
      "execution_count": null,
      "outputs": []
    },
    {
      "cell_type": "markdown",
      "metadata": {
        "id": "ukrHJlPEDVpz"
      },
      "source": [
        "データ読み込み，パラメータ設定\r\n",
        "Keoghらの心電図のデータ http://www.cs.ucr.edu/~eamonn/discords/qtdbsel102.txt Keogh, E., Lin, J. and Fu, A.: HOT SAX : Efficiently Finding the Most Unusual Time Series Subsequence, in Proceedings of the Fifth IEEE International Conference on Data Mining, ICDM 05, pp.226-233."
      ]
    },
    {
      "cell_type": "code",
      "metadata": {
        "id": "O-5CprUlDHSm"
      },
      "source": [
        "def getdata():\r\n",
        "  !wget \"www.dropbox.com/s/x3fmb9mxr4xkip3/qtdbsel102.txt\" #ローカルにコピーしてくる\r\n",
        "  LEN=3000  #分析区間\r\n",
        "\r\n",
        "  SP=0         #学習用データの開始点\r\n",
        "  AP=3000   #テスト用データの開始点　個のデータの場合 4250ポイント付近に異常がある\r\n",
        "  data = np.loadtxt(\"qtdbsel102.txt\",delimiter=\"\\t\")\r\n",
        "  print(\"データ数:\",data.shape[0],\"  次元数:\",data.shape[1])\r\n",
        "\r\n",
        "  #元データは3次元の時系列，3次のデータ(indexとしては2)を指定して学習/テストデータに分割\r\n",
        "  train_org = data[SP:SP+LEN, 2]      #学習用データとして 1～2999サンプル区間を使用\r\n",
        "  test_org  = data[AP:AP+LEN, 2]    #テスト用データとして3000～5999サンプルを使用\r\n",
        "  \r\n",
        "  #x軸\r\n",
        "  x=np.arange(SP,SP+LEN)\r\n",
        "\r\n",
        "  return x, train_org, test_org"
      ],
      "execution_count": null,
      "outputs": []
    },
    {
      "cell_type": "code",
      "metadata": {
        "id": "1fVGnl4CqW2a"
      },
      "source": [
        "x, train_org, test_org = getdata()\n",
        "\n",
        "plt.plot(x,train_org)\n",
        "plt.title(\"train\")\n",
        "plt.legend()\n",
        "plt.show()\n",
        "plt.plot(x,test_org)\n",
        "plt.title(\"test with anomaly\")\n",
        "plt.legend()\n",
        "plt.show()\n",
        "\n",
        "WLEN=200 #セグメントのサイズ\n",
        "train_seg = segdata(train_org, WLEN)\n",
        "test_seg  = segdata(test_org, WLEN)"
      ],
      "execution_count": null,
      "outputs": []
    },
    {
      "cell_type": "code",
      "metadata": {
        "id": "o-2jdb9SDfqN"
      },
      "source": [
        ""
      ],
      "execution_count": null,
      "outputs": []
    },
    {
      "cell_type": "markdown",
      "metadata": {
        "id": "Pv8Q494CqW2a"
      },
      "source": [
        "## isolation Forest（学習データ）"
      ]
    },
    {
      "cell_type": "code",
      "metadata": {
        "id": "Mu_F6sh-qW2a"
      },
      "source": [
        "outliers_fraction = 0.0001\n",
        "rng = np.random.RandomState(123)\n",
        "isof = IsolationForest(contamination=outliers_fraction,\n",
        "                          max_samples=\"auto\",\n",
        "                          random_state=rng,\n",
        "                          n_estimators=100)\n",
        "\n",
        "isof.fit(train_seg) #学習\n",
        "score_pred_train = isof.decision_function(train_seg) #判定スコア\n",
        "pred = isof.predict(train_seg) #判定\n",
        "outlier_rows = [i for i in range(len(pred)) if pred[i]==-1]"
      ],
      "execution_count": null,
      "outputs": []
    },
    {
      "cell_type": "code",
      "metadata": {
        "id": "60KCepu0qW2a"
      },
      "source": [
        "for c in outlier_rows:\n",
        "    plt.axvspan(c, c, color = \"skyblue\")\n",
        "plt.plot(train_org)\n",
        "plt.show()"
      ],
      "execution_count": null,
      "outputs": []
    },
    {
      "cell_type": "markdown",
      "metadata": {
        "id": "tQWAuHAfqW2b"
      },
      "source": [
        "## 未知データに対する評価"
      ]
    },
    {
      "cell_type": "code",
      "metadata": {
        "id": "Sl0k_eeKqW2b"
      },
      "source": [
        "score_pred_test = isof.decision_function(test_seg)\n",
        "pred = isof.predict(test_seg)\n",
        "outlier_rows = [i for i in range(len(pred)) if pred[i]==-1]\n",
        "    "
      ],
      "execution_count": null,
      "outputs": []
    },
    {
      "cell_type": "code",
      "metadata": {
        "id": "irNbi0T-qW2c"
      },
      "source": [
        "for c in outlier_rows:\n",
        "    plt.axvspan(c, c, color = \"coral\")\n",
        "plt.plot(test_org)\n",
        "\n",
        "plt.show()"
      ],
      "execution_count": null,
      "outputs": []
    },
    {
      "cell_type": "code",
      "metadata": {
        "id": "f2N7uYh5qW2c"
      },
      "source": [
        "plt.plot(score_pred_train)\r\n",
        "plt.plot(score_pred_test)\r\n",
        "plt.show()"
      ],
      "execution_count": null,
      "outputs": []
    },
    {
      "cell_type": "code",
      "metadata": {
        "id": "r60_0R4ZqW2c"
      },
      "source": [
        ""
      ],
      "execution_count": null,
      "outputs": []
    },
    {
      "cell_type": "code",
      "metadata": {
        "id": "M4MWr-YkqW2c"
      },
      "source": [
        ""
      ],
      "execution_count": null,
      "outputs": []
    }
  ]
}