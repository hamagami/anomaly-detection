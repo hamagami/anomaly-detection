{
  "nbformat": 4,
  "nbformat_minor": 0,
  "metadata": {
    "kernelspec": {
      "display_name": "Python 3",
      "language": "python",
      "name": "python3"
    },
    "language_info": {
      "codemirror_mode": {
        "name": "ipython",
        "version": 3
      },
      "file_extension": ".py",
      "mimetype": "text/x-python",
      "name": "python",
      "nbconvert_exporter": "python",
      "pygments_lexer": "ipython3",
      "version": "3.7.3"
    },
    "colab": {
      "name": "04_04_isoforestsample.ipynb",
      "provenance": []
    }
  },
  "cells": [
    {
      "cell_type": "markdown",
      "metadata": {
        "id": "5Vt4tBOmqW2V"
      },
      "source": [
        "# isoration Forest 時系列異常検知"
      ]
    },
    {
      "cell_type": "markdown",
      "metadata": {
        "id": "jYRaJx_IqW2W"
      },
      "source": [
        "### 必要なモジュールのimport"
      ]
    },
    {
      "cell_type": "code",
      "metadata": {
        "id": "vOzsSwoZqW2X"
      },
      "source": [
        "import numpy as np\n",
        "import matplotlib.pyplot as plt\n",
        "from sklearn.ensemble import IsolationForest"
      ],
      "execution_count": null,
      "outputs": []
    },
    {
      "cell_type": "markdown",
      "metadata": {
        "id": "LU-3-93RqW2X"
      },
      "source": [
        "### セグメントの切り出し関数"
      ]
    },
    {
      "cell_type": "code",
      "metadata": {
        "id": "1HR4trpeqW2Y"
      },
      "source": [
        "def segdata(lst, dim):\n",
        "    emb = np.empty((0,dim), float)\n",
        "    for i in range(lst.size - dim + 1):\n",
        "        tmp = np.array(lst[i:i+dim])[::-1].reshape((1,-1)) #セグメントの切り出し，時系列反転，appendのための2次ベクトル化\n",
        "        emb = np.append( emb, tmp, axis=0)\n",
        "    return emb"
      ],
      "execution_count": null,
      "outputs": []
    },
    {
      "cell_type": "markdown",
      "metadata": {
        "id": "MqxFCxDSqW2Y"
      },
      "source": [
        "### データ読み込み，パラメータ設定\n",
        " Keoghらの心電図のデータ  http://www.cs.ucr.edu/~eamonn/discords/qtdbsel102.txt\n",
        " Keogh, E., Lin, J. and Fu, A.: HOT SAX : Efficiently Finding the Most Unusual Time Series Subsequence, in Proceedings of the Fifth IEEE International Conference on Data Mining, ICDM 05, pp.226-233."
      ]
    },
    {
      "cell_type": "code",
      "metadata": {
        "id": "Glrg9PY4ijWf"
      },
      "source": [
        "!wget \"www.dropbox.com/s/x3fmb9mxr4xkip3/qtdbsel102.txt\""
      ],
      "execution_count": null,
      "outputs": []
    },
    {
      "cell_type": "code",
      "metadata": {
        "id": "xoTI6tFrqW2Y"
      },
      "source": [
        "LEN=3000  #学習テストそれぞれの分析区間\n",
        "WLEN=150 #セグメントのサイズ\n",
        "SP=0         #学習用データの開始点\n",
        "AP=LEN   #テスト用データの開始点　このデータの場合 1250ポイント付近(データ全体では4250ポイント)に異常がある"
      ],
      "execution_count": null,
      "outputs": []
    },
    {
      "cell_type": "code",
      "metadata": {
        "id": "2z_oUpEUqW2Z"
      },
      "source": [
        "data = np.loadtxt(\"qtdbsel102.txt\",delimiter=\"\\t\")\n",
        "print(\"総データ数:\",data.shape[0],\"  次元数:\",data.shape[1])\n",
        "\n",
        "#元データは3次元の時系列，3次のデータ．\n",
        "#ここでは１次元データを扱うため，index=2 のデータを取得し，これを学習/テストデータに分割\n",
        "train_org = data[SP:SP+LEN, 2]  #学習用データ\n",
        "test_org  = data[AP:AP+LEN, 2]  #テスト用データ\n",
        "\n",
        "plt.plot(train_org)\n",
        "plt.show()\n",
        "plt.plot(test_org)\n",
        "plt.show()"
      ],
      "execution_count": null,
      "outputs": []
    },
    {
      "cell_type": "markdown",
      "metadata": {
        "id": "__dhrVMqqW2Z"
      },
      "source": [
        "\n",
        "### 窓関数の設定と切り出し"
      ]
    },
    {
      "cell_type": "code",
      "metadata": {
        "id": "1fVGnl4CqW2a"
      },
      "source": [
        "seglen = WLEN   #Window size\n",
        "#winlenの単位で1ポイントずつずらした2次元表現に変換\n",
        "train = segdata(train_org, seglen)\n",
        "test =  segdata(test_org, seglen)\n",
        "print(train.shape)\n",
        "print(test.shape)"
      ],
      "execution_count": null,
      "outputs": []
    },
    {
      "cell_type": "markdown",
      "metadata": {
        "id": "Pv8Q494CqW2a"
      },
      "source": [
        "## isolation Forest（学習データ）"
      ]
    },
    {
      "cell_type": "code",
      "metadata": {
        "id": "Mu_F6sh-qW2a"
      },
      "source": [
        "outliers_fraction = 0.0001\n",
        "rng = np.random.RandomState(123)\n",
        "isof = IsolationForest(contamination=outliers_fraction,\n",
        "                          max_samples=\"auto\",\n",
        "                          random_state=rng,\n",
        "                          n_estimators=100)\n",
        "\n",
        "isof.fit(train) #学習\n",
        "score_pred = isof.decision_function(train) #判定スコア\n",
        "pred = isof.predict(train) #判定\n",
        "print(pred)\n",
        "outlier_rows = [i for i in range(len(pred)) if pred[i]==-1]\n",
        "print(outlier_rows)"
      ],
      "execution_count": null,
      "outputs": []
    },
    {
      "cell_type": "code",
      "metadata": {
        "id": "60KCepu0qW2a"
      },
      "source": [
        "for c in outlier_rows:\n",
        "    plt.axvspan(c, c+WLEN, color = \"skyblue\")\n",
        "plt.plot(train_org)\n",
        "plt.show()"
      ],
      "execution_count": null,
      "outputs": []
    },
    {
      "cell_type": "markdown",
      "metadata": {
        "id": "tQWAuHAfqW2b"
      },
      "source": [
        "## 未知データに対する評価"
      ]
    },
    {
      "cell_type": "code",
      "metadata": {
        "id": "Sl0k_eeKqW2b"
      },
      "source": [
        "score_pred = isof.decision_function(test)\n",
        "pred = isof.predict(test)\n",
        "outlier_rows = [i for i in range(len(pred)) if pred[i]==-1]\n",
        "print(outlier_rows)\n",
        "    "
      ],
      "execution_count": null,
      "outputs": []
    },
    {
      "cell_type": "code",
      "metadata": {
        "id": "r5p-dkTwqW2b"
      },
      "source": [
        "plt.plot(score_pred)"
      ],
      "execution_count": null,
      "outputs": []
    },
    {
      "cell_type": "code",
      "metadata": {
        "id": "irNbi0T-qW2c"
      },
      "source": [
        "for c in outlier_rows:\n",
        "    plt.axvspan(c, c+WLEN, color = \"skyblue\")\n",
        "plt.plot(test_org)\n",
        "plt.plot(score_pred)\n",
        "plt.show()"
      ],
      "execution_count": null,
      "outputs": []
    },
    {
      "cell_type": "code",
      "metadata": {
        "id": "f2N7uYh5qW2c"
      },
      "source": [
        ""
      ],
      "execution_count": null,
      "outputs": []
    },
    {
      "cell_type": "code",
      "metadata": {
        "id": "r60_0R4ZqW2c"
      },
      "source": [
        ""
      ],
      "execution_count": null,
      "outputs": []
    },
    {
      "cell_type": "code",
      "metadata": {
        "id": "M4MWr-YkqW2c"
      },
      "source": [
        ""
      ],
      "execution_count": null,
      "outputs": []
    }
  ]
}