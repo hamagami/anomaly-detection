{
  "nbformat": 4,
  "nbformat_minor": 0,
  "metadata": {
    "kernelspec": {
      "display_name": "Python 3",
      "language": "python",
      "name": "python3"
    },
    "language_info": {
      "codemirror_mode": {
        "name": "ipython",
        "version": 3
      },
      "file_extension": ".py",
      "mimetype": "text/x-python",
      "name": "python",
      "nbconvert_exporter": "python",
      "pygments_lexer": "ipython3",
      "version": "3.7.3"
    },
    "colab": {
      "name": "04_05_oneclassSVM.ipynb",
      "provenance": [],
      "include_colab_link": true
    }
  },
  "cells": [
    {
      "cell_type": "markdown",
      "metadata": {
        "id": "view-in-github",
        "colab_type": "text"
      },
      "source": [
        "<a href=\"https://colab.research.google.com/github/hamagami/anomaly-detection/blob/main/04_05_oneclassSVM.ipynb\" target=\"_parent\"><img src=\"https://colab.research.google.com/assets/colab-badge.svg\" alt=\"Open In Colab\"/></a>"
      ]
    },
    {
      "cell_type": "markdown",
      "metadata": {
        "id": "hmH20YLr9SBD"
      },
      "source": [
        "# one class SVM による時系列異常検知"
      ]
    },
    {
      "cell_type": "markdown",
      "metadata": {
        "id": "VFeGyrx49SBE"
      },
      "source": [
        "### 必要なモジュールのimport"
      ]
    },
    {
      "cell_type": "code",
      "metadata": {
        "id": "eDZu_WoA9SBE"
      },
      "source": [
        "import numpy as np\n",
        "import matplotlib.pyplot as plt\n",
        "from sklearn.svm import OneClassSVM"
      ],
      "execution_count": 1,
      "outputs": []
    },
    {
      "cell_type": "code",
      "metadata": {
        "id": "mPuZUus8H7l2",
        "outputId": "358d74b4-d03a-467d-d842-624cce864cfa",
        "colab": {
          "base_uri": "https://localhost:8080/"
        }
      },
      "source": [
        "!wget https://dl.dropbox.com/s/x3fmb9mxr4xkip3/qtdbsel102.txt"
      ],
      "execution_count": 2,
      "outputs": [
        {
          "output_type": "stream",
          "text": [
            "--2020-12-11 14:06:51--  https://dl.dropbox.com/s/x3fmb9mxr4xkip3/qtdbsel102.txt\n",
            "Resolving dl.dropbox.com (dl.dropbox.com)... 162.125.82.15, 2620:100:6032:15::a27d:520f\n",
            "Connecting to dl.dropbox.com (dl.dropbox.com)|162.125.82.15|:443... connected.\n",
            "HTTP request sent, awaiting response... 302 Found\n",
            "Location: https://dl.dropboxusercontent.com/s/x3fmb9mxr4xkip3/qtdbsel102.txt [following]\n",
            "--2020-12-11 14:06:52--  https://dl.dropboxusercontent.com/s/x3fmb9mxr4xkip3/qtdbsel102.txt\n",
            "Resolving dl.dropboxusercontent.com (dl.dropboxusercontent.com)... 162.125.82.15, 2620:100:6032:15::a27d:520f\n",
            "Connecting to dl.dropboxusercontent.com (dl.dropboxusercontent.com)|162.125.82.15|:443... connected.\n",
            "HTTP request sent, awaiting response... 200 OK\n",
            "Length: 1125000 (1.1M) [text/plain]\n",
            "Saving to: ‘qtdbsel102.txt’\n",
            "\n",
            "qtdbsel102.txt      100%[===================>]   1.07M  6.71MB/s    in 0.2s    \n",
            "\n",
            "2020-12-11 14:06:52 (6.71 MB/s) - ‘qtdbsel102.txt’ saved [1125000/1125000]\n",
            "\n"
          ],
          "name": "stdout"
        }
      ]
    },
    {
      "cell_type": "markdown",
      "metadata": {
        "id": "sydsDw1i9SBE"
      },
      "source": [
        "### セグメントの切り出し関数"
      ]
    },
    {
      "cell_type": "code",
      "metadata": {
        "id": "SGaioviX9SBE"
      },
      "source": [
        "def segdata(lst, dim):\n",
        "    emb = np.empty((0,dim), float)\n",
        "    for i in range(lst.size - dim + 1):\n",
        "        tmp = np.array(lst[i:i+dim])[::-1].reshape((1,-1)) #セグメントの切り出し，時系列反転，appendのための2次ベクトル化\n",
        "        emb = np.append( emb, tmp, axis=0)\n",
        "    return emb"
      ],
      "execution_count": 3,
      "outputs": []
    },
    {
      "cell_type": "markdown",
      "metadata": {
        "id": "r7p3Cm049SBE"
      },
      "source": [
        "### データ読み込み，パラメータ設定\n",
        " Keoghらの心電図のデータ  http://www.cs.ucr.edu/~eamonn/discords/qtdbsel102.txt\n",
        " Keogh, E., Lin, J. and Fu, A.: HOT SAX : Efficiently Finding the Most Unusual Time Series Subsequence, in Proceedings of the Fifth IEEE International Conference on Data Mining, ICDM 05, pp.226-233."
      ]
    },
    {
      "cell_type": "code",
      "metadata": {
        "id": "A-cPu0u99SBE"
      },
      "source": [
        "LEN=3000  #分析区間\n",
        "WLEN=150 #セグメントのサイズ\n",
        "SP=0         #学習用データの開始点\n",
        "AP=3000   #テスト用データの開始点　個のデータの場合 4250ポイント付近に異常がある"
      ],
      "execution_count": 4,
      "outputs": []
    },
    {
      "cell_type": "code",
      "metadata": {
        "id": "C6AX6Unv9SBE",
        "outputId": "67663e6b-89c9-47d3-bec7-7919ba57137c",
        "colab": {
          "base_uri": "https://localhost:8080/"
        }
      },
      "source": [
        "data = np.loadtxt(\"qtdbsel102.txt\",delimiter=\"\\t\")\n",
        "print(\"データ数:\",data.shape[0],\"  次元数:\",data.shape[1])\n",
        "\n",
        "#元データは3次元の時系列，3次のデータ(indexとしては2)を指定して学習/テストデータに分割\n",
        "train_org = data[SP:SP+LEN*10, 2]      #学習用データとして 1～2999サンプル区間を使用"
      ],
      "execution_count": 5,
      "outputs": [
        {
          "output_type": "stream",
          "text": [
            "データ数: 45000   次元数: 3\n"
          ],
          "name": "stdout"
        }
      ]
    },
    {
      "cell_type": "markdown",
      "metadata": {
        "id": "ivL7nHQ29SBF"
      },
      "source": [
        "### 窓関数の設定と切り出し"
      ]
    },
    {
      "cell_type": "code",
      "metadata": {
        "id": "Qu4Oga1_9SBF"
      },
      "source": [
        "seglen = WLEN   #Window size\n",
        "#winlenの単位で1ポイントずつずらした2次元表現に変換\n",
        "train = segdata(train_org, seglen)\n",
        "test_org  = data[AP:AP+LEN, 2]  #テスト用データとして3000～5999サンプルを使用\n",
        "test =  segdata(test_org, seglen)\n"
      ],
      "execution_count": 7,
      "outputs": []
    },
    {
      "cell_type": "markdown",
      "metadata": {
        "id": "5VDGuhnX9SBF"
      },
      "source": [
        "### one class SVMによる判定"
      ]
    },
    {
      "cell_type": "code",
      "metadata": {
        "id": "c0vQgWJM9SBF"
      },
      "source": [
        "clf = OneClassSVM(nu=0.001, kernel='rbf', gamma='auto')\n",
        "clf.fit(train)\n",
        "pred = clf.predict(test)"
      ],
      "execution_count": 8,
      "outputs": []
    },
    {
      "cell_type": "markdown",
      "metadata": {
        "id": "xxZ6rs9O9SBG"
      },
      "source": [
        "### 波形と OCSVMの判定結果を並べて表示"
      ]
    },
    {
      "cell_type": "code",
      "metadata": {
        "id": "J64C4HQr9SBG",
        "outputId": "4764b3dc-7622-4af4-ae36-16ed632599e6",
        "colab": {
          "base_uri": "https://localhost:8080/",
          "height": 265
        }
      },
      "source": [
        "plt.plot(test_org, label=\"sig\")\n",
        "plt.legend()\n",
        "outlier_rows = [i for i in range(len(pred)) if pred[i]<0]\n",
        "for c in outlier_rows:\n",
        "    plt.axvspan(c, c, color = \"skyblue\")\n",
        "plt.show()\n",
        "plt.show()"
      ],
      "execution_count": 11,
      "outputs": [
        {
          "output_type": "display_data",
          "data": {
            "image/png": "[encoded data removed]",
            "text/plain": [
              "<Figure size 432x288 with 1 Axes>"
            ]
          },
          "metadata": {
            "tags": [],
            "needs_background": "light"
          }
        }
      ]
    },
    {
      "cell_type": "code",
      "metadata": {
        "id": "nwPBPG8h9SBG"
      },
      "source": [
        ""
      ],
      "execution_count": null,
      "outputs": []
    },
    {
      "cell_type": "code",
      "metadata": {
        "id": "zs50CbA69SBG"
      },
      "source": [
        ""
      ],
      "execution_count": null,
      "outputs": []
    },
    {
      "cell_type": "code",
      "metadata": {
        "id": "x2liovd59SBG"
      },
      "source": [
        ""
      ],
      "execution_count": null,
      "outputs": []
    }
  ]
}