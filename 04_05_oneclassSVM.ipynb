{
  "nbformat": 4,
  "nbformat_minor": 0,
  "metadata": {
    "kernelspec": {
      "display_name": "Python 3",
      "language": "python",
      "name": "python3"
    },
    "language_info": {
      "codemirror_mode": {
        "name": "ipython",
        "version": 3
      },
      "file_extension": ".py",
      "mimetype": "text/x-python",
      "name": "python",
      "nbconvert_exporter": "python",
      "pygments_lexer": "ipython3",
      "version": "3.7.3"
    },
    "colab": {
      "name": "04_05_oneclassSVM.ipynb",
      "provenance": [],
      "include_colab_link": true
    }
  },
  "cells": [
    {
      "cell_type": "markdown",
      "metadata": {
        "id": "view-in-github",
        "colab_type": "text"
      },
      "source": [
        "<a href=\"https://colab.research.google.com/github/hamagami/anomaly-detection/blob/main/04_05_oneclassSVM.ipynb\" target=\"_parent\"><img src=\"https://colab.research.google.com/assets/colab-badge.svg\" alt=\"Open In Colab\"/></a>"
      ]
    },
    {
      "cell_type": "markdown",
      "metadata": {
        "id": "hmH20YLr9SBD"
      },
      "source": [
        "# one class SVM による時系列異常検知"
      ]
    },
    {
      "cell_type": "code",
      "metadata": {
        "colab": {
          "base_uri": "https://localhost:8080/"
        },
        "id": "BK11xFDO-eyq",
        "outputId": "3905cc64-1eb1-40bb-860c-80492b906026"
      },
      "source": [
        "from google.colab import drive\n",
        "drive.mount('/content/drive')\n",
        "DIR=\"drive/My Drive/Colab Notebooks/異常検知サンプルコード/\""
      ],
      "execution_count": null,
      "outputs": [
        {
          "output_type": "stream",
          "text": [
            "Drive already mounted at /content/drive; to attempt to forcibly remount, call drive.mount(\"/content/drive\", force_remount=True).\n"
          ],
          "name": "stdout"
        }
      ]
    },
    {
      "cell_type": "markdown",
      "metadata": {
        "id": "VFeGyrx49SBE"
      },
      "source": [
        "### 必要なモジュールのimport"
      ]
    },
    {
      "cell_type": "code",
      "metadata": {
        "id": "eDZu_WoA9SBE"
      },
      "source": [
        "import numpy as np\n",
        "import matplotlib.pyplot as plt\n",
        "from sklearn.svm import OneClassSVM"
      ],
      "execution_count": null,
      "outputs": []
    },
    {
      "cell_type": "markdown",
      "metadata": {
        "id": "sydsDw1i9SBE"
      },
      "source": [
        "### セグメントの切り出し関数"
      ]
    },
    {
      "cell_type": "code",
      "metadata": {
        "id": "SGaioviX9SBE"
      },
      "source": [
        "def segdata(lst, dim):\n",
        "    emb = np.empty((0,dim), float)\n",
        "    for i in range(lst.size - dim + 1):\n",
        "        tmp = np.array(lst[i:i+dim])[::-1].reshape((1,-1)) #セグメントの切り出し，時系列反転，appendのための2次ベクトル化\n",
        "        emb = np.append( emb, tmp, axis=0)\n",
        "    return emb"
      ],
      "execution_count": null,
      "outputs": []
    },
    {
      "cell_type": "markdown",
      "metadata": {
        "id": "r7p3Cm049SBE"
      },
      "source": [
        "### データ読み込み，パラメータ設定\n",
        " Keoghらの心電図のデータ  http://www.cs.ucr.edu/~eamonn/discords/qtdbsel102.txt\n",
        " Keogh, E., Lin, J. and Fu, A.: HOT SAX : Efficiently Finding the Most Unusual Time Series Subsequence, in Proceedings of the Fifth IEEE International Conference on Data Mining, ICDM 05, pp.226-233."
      ]
    },
    {
      "cell_type": "code",
      "metadata": {
        "id": "A-cPu0u99SBE"
      },
      "source": [
        "LEN=3000  #分析区間\n",
        "WLEN=150 #セグメントのサイズ\n",
        "SP=0         #学習用データの開始点\n",
        "AP=3000   #テスト用データの開始点　個のデータの場合 4250ポイント付近に異常がある"
      ],
      "execution_count": null,
      "outputs": []
    },
    {
      "cell_type": "code",
      "metadata": {
        "colab": {
          "base_uri": "https://localhost:8080/"
        },
        "id": "C6AX6Unv9SBE",
        "outputId": "c1163c3a-fee5-41e9-e162-01c717a7a0ad"
      },
      "source": [
        "data = np.loadtxt(DIR+\"04/data/qtdbsel102.txt\",delimiter=\"\\t\")\n",
        "print(\"データ数:\",data.shape[0],\"  次元数:\",data.shape[1])\n",
        "\n",
        "#元データは3次元の時系列，3次のデータ(indexとしては2)を指定して学習/テストデータに分割\n",
        "train_org = data[SP:SP+LEN*10, 2]      #学習用データとして 1～2999サンプル区間を使用"
      ],
      "execution_count": null,
      "outputs": [
        {
          "output_type": "stream",
          "text": [
            "データ数: 45000   次元数: 3\n"
          ],
          "name": "stdout"
        }
      ]
    },
    {
      "cell_type": "markdown",
      "metadata": {
        "id": "ivL7nHQ29SBF"
      },
      "source": [
        "### 窓関数の設定と切り出し"
      ]
    },
    {
      "cell_type": "code",
      "metadata": {
        "id": "Qu4Oga1_9SBF"
      },
      "source": [
        "seglen = WLEN   #Window size\n",
        "#winlenの単位で1ポイントずつずらした2次元表現に変換\n",
        "train = segdata(train_org, seglen)\n",
        "test_org  = data[AP:AP+LEN, 2]  #テスト用データとして3000～5999サンプルを使用\n",
        "test =  segdata(test_org, seglen)\n"
      ],
      "execution_count": null,
      "outputs": []
    },
    {
      "cell_type": "markdown",
      "metadata": {
        "id": "5VDGuhnX9SBF"
      },
      "source": [
        "### one class SVMによる判定"
      ]
    },
    {
      "cell_type": "code",
      "metadata": {
        "id": "c0vQgWJM9SBF"
      },
      "source": [
        "clf = OneClassSVM(nu=0.001, kernel='rbf', gamma='auto')\n",
        "clf.fit(train)\n",
        "pred = clf.predict(test)"
      ],
      "execution_count": null,
      "outputs": []
    },
    {
      "cell_type": "markdown",
      "metadata": {
        "id": "xxZ6rs9O9SBG"
      },
      "source": [
        "### 波形と OCSVMの判定結果を並べて表示"
      ]
    },
    {
      "cell_type": "code",
      "metadata": {
        "colab": {
          "base_uri": "https://localhost:8080/",
          "height": 268
        },
        "id": "J64C4HQr9SBG",
        "outputId": "83fc2478-c3f1-40fc-fa2b-36be972407e0"
      },
      "source": [
        "plt.plot(test_org, label=\"sig\")\n",
        "plt.plot(pred, label=\"predict\")\n",
        "plt.legend()\n",
        "plt.show()"
      ],
      "execution_count": null,
      "outputs": [
        {
          "output_type": "display_data",
          "data": {
            "image/png": "[encoded data removed]",
            "text/plain": [
              "<Figure size 432x288 with 1 Axes>"
            ]
          },
          "metadata": {
            "tags": [],
            "needs_background": "light"
          }
        }
      ]
    },
    {
      "cell_type": "code",
      "metadata": {
        "id": "nwPBPG8h9SBG"
      },
      "source": [
        ""
      ],
      "execution_count": null,
      "outputs": []
    },
    {
      "cell_type": "code",
      "metadata": {
        "id": "zs50CbA69SBG"
      },
      "source": [
        ""
      ],
      "execution_count": null,
      "outputs": []
    },
    {
      "cell_type": "code",
      "metadata": {
        "id": "x2liovd59SBG"
      },
      "source": [
        ""
      ],
      "execution_count": null,
      "outputs": []
    }
  ]
}