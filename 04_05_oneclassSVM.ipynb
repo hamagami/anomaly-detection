{
  "nbformat": 4,
  "nbformat_minor": 0,
  "metadata": {
    "kernelspec": {
      "display_name": "Python 3",
      "language": "python",
      "name": "python3"
    },
    "language_info": {
      "codemirror_mode": {
        "name": "ipython",
        "version": 3
      },
      "file_extension": ".py",
      "mimetype": "text/x-python",
      "name": "python",
      "nbconvert_exporter": "python",
      "pygments_lexer": "ipython3",
      "version": "3.7.3"
    },
    "colab": {
      "name": "04_05_oneclassSVM.ipynb",
      "provenance": [],
      "include_colab_link": true
    }
  },
  "cells": [
    {
      "cell_type": "markdown",
      "metadata": {
        "id": "view-in-github",
        "colab_type": "text"
      },
      "source": [
        "<a href=\"https://colab.research.google.com/github/hamagami/anomaly-detection/blob/main/04_05_oneclassSVM.ipynb\" target=\"_parent\"><img src=\"https://colab.research.google.com/assets/colab-badge.svg\" alt=\"Open In Colab\"/></a>"
      ]
    },
    {
      "cell_type": "markdown",
      "metadata": {
        "id": "hmH20YLr9SBD"
      },
      "source": [
        "# one class SVM による時系列異常検知"
      ]
    },
    {
      "cell_type": "markdown",
      "metadata": {
        "id": "VFeGyrx49SBE"
      },
      "source": [
        "### 必要なモジュールのimport"
      ]
    },
    {
      "cell_type": "code",
      "metadata": {
        "id": "eDZu_WoA9SBE"
      },
      "source": [
        "import numpy as np\n",
        "import matplotlib.pyplot as plt\n",
        "from sklearn.svm import OneClassSVM"
      ],
      "execution_count": null,
      "outputs": []
    },
    {
      "cell_type": "markdown",
      "metadata": {
        "id": "sydsDw1i9SBE"
      },
      "source": [
        "### セグメントの切り出し関数"
      ]
    },
    {
      "cell_type": "code",
      "metadata": {
        "id": "rSQu3mBeqjkb"
      },
      "source": [
        "from scipy import signal\r\n",
        "#ヒストグラム　\r\n",
        "def gethist(lst,range=(0,10),bins=25):\r\n",
        "    win= signal.hann(len(lst)) \r\n",
        "    hist, bins= np.histogram(win*lst, bins, range)\r\n",
        "    return hist, bins"
      ],
      "execution_count": null,
      "outputs": []
    },
    {
      "cell_type": "code",
      "metadata": {
        "id": "YQUI53HPlcPb"
      },
      "source": [
        "def segdata(lst, dim): #lst:１次元系列　dim:セグメントの幅\r\n",
        "    segs = np.empty((0,dim), float)#0×dimの空配列\r\n",
        "    hists = np.empty((0,25), float)#0×dimの空配列\r\n",
        "    for i in range(lst.size - dim + 1):#1つづつずらしながらセグメントをつくっている。最後のセグメントの開始点は lst.size-dim\r\n",
        "        hist,bins= gethist(lst[i:i+dim])\r\n",
        "        \r\n",
        "        seg=np.array(lst[i:i+dim][::-1].reshape((1,-1))) #セグメントの切り出し，時系列反転，appendのための2次ベクトル化\r\n",
        "        hist=hist.reshape((1,-1))\r\n",
        "        hists = np.append(hists,hist,axis=0)\r\n",
        "        segs = np.append(segs,seg,axis=0)\r\n",
        "\r\n",
        "    return segs, hists"
      ],
      "execution_count": null,
      "outputs": []
    },
    {
      "cell_type": "code",
      "metadata": {
        "id": "3mKuOTpMpv4J"
      },
      "source": [
        "def getdata():\r\n",
        "  !wget \"www.dropbox.com/s/x3fmb9mxr4xkip3/qtdbsel102.txt\" #ローカルにコピーしてくる\r\n",
        "  LEN=3000  #分析区間\r\n",
        "\r\n",
        "  SP=0         #学習用データの開始点\r\n",
        "  AP=3000   #テスト用データの開始点　個のデータの場合 4250ポイント付近に異常がある\r\n",
        "  data = np.loadtxt(\"qtdbsel102.txt\",delimiter=\"\\t\")\r\n",
        "  print(\"データ数:\",data.shape[0],\"  次元数:\",data.shape[1])\r\n",
        "\r\n",
        "  #元データは3次元の時系列，3次のデータ(indexとしては2)を指定して学習/テストデータに分割\r\n",
        "  train_org = data[SP:SP+LEN, 2]      #学習用データとして 1～2999サンプル区間を使用\r\n",
        "  test_org  = data[AP:AP+LEN, 2]    #テスト用データとして3000～5999サンプルを使用\r\n",
        "  \r\n",
        "  #x軸\r\n",
        "  x=np.arange(SP,SP+LEN)\r\n",
        "\r\n",
        "  return x, train_org, test_org"
      ],
      "execution_count": null,
      "outputs": []
    },
    {
      "cell_type": "markdown",
      "metadata": {
        "id": "ivL7nHQ29SBF"
      },
      "source": [
        "### 窓関数の設定と切り出し"
      ]
    },
    {
      "cell_type": "code",
      "metadata": {
        "id": "Qu4Oga1_9SBF"
      },
      "source": [
        "x, train_org, test_org = getdata()\n",
        "\n",
        "plt.plot(x,train_org)\n",
        "plt.title(\"train\")\n",
        "plt.legend()\n",
        "plt.show()\n",
        "plt.plot(x,test_org)\n",
        "plt.title(\"test with anomaly\")\n",
        "plt.legend()\n",
        "plt.show()\n"
      ],
      "execution_count": null,
      "outputs": []
    },
    {
      "cell_type": "code",
      "metadata": {
        "id": "Z_rAqn2-qGmk"
      },
      "source": [
        "WLEN=256#セグメントのサイズ\r\n",
        "train_seg, train_hist= segdata(train_org, WLEN)\r\n",
        "test_seg, test_hist = segdata(test_org, WLEN)"
      ],
      "execution_count": null,
      "outputs": []
    },
    {
      "cell_type": "code",
      "metadata": {
        "id": "qYW7AxJVvFO8"
      },
      "source": [
        "plt.plot(train_hist.T)\r\n",
        "plt.show()\r\n",
        "plt.plot(test_hist.T)\r\n",
        "plt.show()"
      ],
      "execution_count": null,
      "outputs": []
    },
    {
      "cell_type": "markdown",
      "metadata": {
        "id": "5VDGuhnX9SBF"
      },
      "source": [
        "## one class SVMによる判定\r\n",
        "\r\n"
      ]
    },
    {
      "cell_type": "markdown",
      "metadata": {
        "id": "gi2qUFuxFZ29"
      },
      "source": [
        "### 波形をそのまま使った場合"
      ]
    },
    {
      "cell_type": "code",
      "metadata": {
        "id": "c0vQgWJM9SBF"
      },
      "source": [
        "clf = OneClassSVM(nu=0.00001, kernel='poly', gamma='auto')\n",
        "clf.fit(train_seg)\n",
        "pred = clf.predict(train_seg)\n",
        "# train\n",
        "plt.plot(train_org, label=\"train\")\n",
        "plt.title(\"train-wave\")\n",
        "plt.legend()\n",
        "outlier_rows = [i for i in range(len(pred)) if pred[i]<0]\n",
        "for c in outlier_rows:\n",
        "    plt.axvspan(c, c, color = \"skyblue\")\n",
        "plt.show()\n",
        "#test\n",
        "plt.plot(test_org, label=\"test\")\n",
        "plt.legend()\n",
        "plt.title(\"test-wave\")\n",
        "pred = clf.predict(test_seg)\n",
        "outlier_rows = [i for i in range(len(pred)) if pred[i]<0]\n",
        "for c in outlier_rows:\n",
        "    plt.axvspan(c, c, color = \"coral\")\n",
        "plt.show()"
      ],
      "execution_count": null,
      "outputs": []
    },
    {
      "cell_type": "markdown",
      "metadata": {
        "id": "KVs98tlLFtH2"
      },
      "source": [
        "## ヒストグラム特徴を用いた場合"
      ]
    },
    {
      "cell_type": "code",
      "metadata": {
        "id": "zs50CbA69SBG"
      },
      "source": [
        "clf = OneClassSVM(nu=0.00001, kernel='poly', gamma='auto')\r\n",
        "clf.fit(train_hist)\r\n",
        "pred = clf.predict(train_hist)\r\n",
        "#train\r\n",
        "plt.plot(train_org)\r\n",
        "plt.title(\"train-hist\")\r\n",
        "plt.legend()\r\n",
        "outlier_rows = [i for i in range(len(pred)) if pred[i]<0]\r\n",
        "for c in outlier_rows:\r\n",
        "    plt.axvspan(c, c, color = \"skyblue\")\r\n",
        "plt.show()\r\n",
        "#test\r\n",
        "plt.plot(test_org, label=\"test-hist\")\r\n",
        "plt.legend()\r\n",
        "pred = clf.predict(test_hist)\r\n",
        "outlier_rows = [i for i in range(len(pred)) if pred[i]<0]\r\n",
        "for c in outlier_rows:\r\n",
        "    plt.axvspan(c, c, color = \"coral\")\r\n",
        "plt.show()"
      ],
      "execution_count": null,
      "outputs": []
    },
    {
      "cell_type": "code",
      "metadata": {
        "id": "Ni2cVjw9ryVE"
      },
      "source": [
        ""
      ],
      "execution_count": null,
      "outputs": []
    }
  ]
}