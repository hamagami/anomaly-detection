{
  "nbformat": 4,
  "nbformat_minor": 0,
  "metadata": {
    "kernelspec": {
      "display_name": "Python 3",
      "language": "python",
      "name": "python3"
    },
    "language_info": {
      "codemirror_mode": {
        "name": "ipython",
        "version": 3
      },
      "file_extension": ".py",
      "mimetype": "text/x-python",
      "name": "python",
      "nbconvert_exporter": "python",
      "pygments_lexer": "ipython3",
      "version": "3.7.3"
    },
    "colab": {
      "name": "03_05_clusteringsample.ipynb",
      "provenance": []
    }
  },
  "cells": [
    {
      "cell_type": "markdown",
      "metadata": {
        "id": "mvdNZWldp4B0"
      },
      "source": [
        "# クラスタリングによる異常検知\r\n",
        "サンプルの分布が混合正規分布のようにいくつかの凝集集合に分かれている場合は，クラスタリングによって空間を分解し，それぞれの凝集集合に対して個別に評価する方法が有効です。k-meansのようなクラスタリング法や，EMアルゴリズムのような帰属度を評価するアルゴリズムがつかえます。"
      ]
    },
    {
      "cell_type": "code",
      "metadata": {
        "id": "DcnMal3Qp4B7"
      },
      "source": [
        "from scipy.spatial import distance\n",
        "import numpy as np\n",
        "from sklearn.cluster import KMeans\n",
        "import matplotlib.pyplot as plt"
      ],
      "execution_count": null,
      "outputs": []
    },
    {
      "cell_type": "markdown",
      "metadata": {
        "id": "tvxFB7qHp4B7"
      },
      "source": [
        "## ダミーデータの作成"
      ]
    },
    {
      "cell_type": "code",
      "metadata": {
        "id": "dt4MOElCp4B8"
      },
      "source": [
        "dnum=100\n",
        "\n",
        "mean1 = np.array([0, -2]) # 平均を指定。\n",
        "cov1 = np.array([[1, 0.7],[0.7, 2]]) # 共分散行列を指定。\n",
        "x1, y1 = np.random.multivariate_normal(mean1, cov1, dnum).T \n",
        "\n",
        "mean2 = np.array([4, 4]) # 平均を指定。\n",
        "cov2 = np.array([[1, -0.3],[0.7, 0.4]]) # 共分散行列を指定。\n",
        "x2, y2 = np.random.multivariate_normal(mean2, cov2, dnum).T \n",
        "\n",
        "mean3 = np.array([-3, 5]) # 平均を指定。\n",
        "cov3 = np.array([[0.8, -0.1],[1.0, 2]]) # 共分散行列を指定。\n",
        "x3, y3 = np.random.multivariate_normal(mean3, cov3, dnum).T \n",
        "\n",
        "mean=np.array([mean1,mean2,mean3])\n",
        "cov =np.array([cov1,cov2,cov3])\n",
        "x = np.hstack([x1, x2, x3])\n",
        "y = np.hstack([y1,y2,y3])\n",
        "data=np.array([x,y]).T\n",
        "plt.scatter(x,y)\n",
        "plt.show()"
      ],
      "execution_count": null,
      "outputs": []
    },
    {
      "cell_type": "markdown",
      "metadata": {
        "id": "9nVdOu3yp4B9"
      },
      "source": [
        "## クラスタリング"
      ]
    },
    {
      "cell_type": "code",
      "metadata": {
        "id": "8pNfX7rlp4B9"
      },
      "source": [
        "ncluster=3\n",
        "km = KMeans(n_clusters=ncluster).fit(data) #本当はクラスタ数3は未知の情報，ここでは事前知識として与える\n",
        "label = km.predict(data)\n",
        "for i in range(ncluster):\n",
        "        clust = data[label == i]\n",
        "        plt.scatter(clust[:, 0], clust[:, 1])\n",
        "plt.scatter(km.cluster_centers_[:,0],km.cluster_centers_[:,1],marker=\"+\",color=\"black\")\n",
        "# 3つのクラスタに分けられることを確認"
      ],
      "execution_count": null,
      "outputs": []
    },
    {
      "cell_type": "markdown",
      "metadata": {
        "id": "HorIBvDXp4B-"
      },
      "source": [
        "## 各クラスタごとにマハラノビス距離で判定"
      ]
    },
    {
      "cell_type": "code",
      "metadata": {
        "id": "SWhZ7QFSp4B-"
      },
      "source": [
        "ano=[]\n",
        "for i in range(ncluster):\n",
        "    clust = data[label == i] # クラスタi のデータ\n",
        "    th= 3 #ここは適宜\n",
        "    xv=clust[:, 0]\n",
        "    yv=clust[:, 1]  \n",
        "    pmean=[km.cluster_centers_[i,0],km.cluster_centers_[i,1]]\n",
        "    pcov =np.cov(clust.T)\n",
        "    for j,dummy in enumerate(xv):\n",
        "    # データx, 平均値mean, 共分散行列の逆行列np.linalg.pinv(cov) から距離を計算\n",
        "        d=distance.mahalanobis([xv[j], yv[j]], pmean, np.linalg.pinv(pcov))\n",
        "        if d >=th:\n",
        "            ano.append([xv[j], yv[j]]) "
      ],
      "execution_count": null,
      "outputs": []
    },
    {
      "cell_type": "code",
      "metadata": {
        "id": "KglPMFfdp4B_"
      },
      "source": [
        "ano=np.array(ano)\n",
        "for i in range(ncluster):\n",
        "        clust = data[label == i]\n",
        "        plt.scatter(clust[:, 0], clust[:, 1])\n",
        "plt.scatter(km.cluster_centers_[:,0],km.cluster_centers_[:,1],marker=\"+\",color=\"black\")\n",
        "plt.scatter(ano[:,0],ano[:,1],color=\"red\",marker=\"D\")"
      ],
      "execution_count": null,
      "outputs": []
    },
    {
      "cell_type": "code",
      "metadata": {
        "id": "Pjrbsa3Xp4B_"
      },
      "source": [
        ""
      ],
      "execution_count": null,
      "outputs": []
    }
  ]
}