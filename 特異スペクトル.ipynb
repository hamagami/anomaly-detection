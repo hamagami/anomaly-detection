{
  "nbformat": 4,
  "nbformat_minor": 0,
  "metadata": {
    "kernelspec": {
      "display_name": "Python 3",
      "language": "python",
      "name": "python3"
    },
    "language_info": {
      "codemirror_mode": {
        "name": "ipython",
        "version": 3
      },
      "file_extension": ".py",
      "mimetype": "text/x-python",
      "name": "python",
      "nbconvert_exporter": "python",
      "pygments_lexer": "ipython3",
      "version": "3.7.3"
    },
    "colab": {
      "name": "特異スペクトル.ipynb",
      "provenance": [],
      "toc_visible": true
    }
  },
  "cells": [
    {
      "cell_type": "markdown",
      "metadata": {
        "id": "u5NGI6P-9wRx"
      },
      "source": [
        "# 特異スペクトルによる異常検知\n",
        "\n",
        "変化点検知に使われるアルゴリズムです。\n",
        "過去の特徴ベクトルと今の特徴ベクトルのパターンを特異値分解(SVD)でもとめ，これらを比べることで変化点を見つけます。比較的単純な方法ですが，定常区間が長い信号に対しては，有効な手段となります。"
      ]
    },
    {
      "cell_type": "markdown",
      "metadata": {
        "id": "02Us1LkM9wR2"
      },
      "source": [
        "original python module from https://github.com/tsurubee/banpei"
      ]
    },
    {
      "cell_type": "code",
      "metadata": {
        "id": "I4xocz0p9wR3"
      },
      "source": [
        "import matplotlib.pyplot as plt\n",
        "import numpy as np"
      ],
      "execution_count": null,
      "outputs": []
    },
    {
      "cell_type": "code",
      "metadata": {
        "id": "spszKlzf9wR3"
      },
      "source": [
        "def extract_matrix(data, start, end, w):\n",
        "    row = w\n",
        "    column = end - start + 1\n",
        "    matrix = np.empty((row, column))\n",
        "    i = 0\n",
        "    for t in range(start, end+1):\n",
        "        matrix[:, i] = data[t-1:t-1+row]\n",
        "        i += 1\n",
        "\n",
        "    return matrix\n",
        "\n",
        "#Singular Spectrum Transformation\n",
        "def sst(data, w, m=2, k=None, L=None):\n",
        "\n",
        "    # Set variables\n",
        "    if not isinstance(data, np.ndarray):\n",
        "        data = np.array(data)\n",
        "    if k is None:\n",
        "        k = w // 2\n",
        "    if L is None:\n",
        "        L = k // 2\n",
        "    T = len(data)\n",
        "\n",
        "    # Calculation range\n",
        "    start_cal = k + w\n",
        "    end_cal = T - L + 1\n",
        "\n",
        "    # Calculate the degree of change\n",
        "    change_scores = np.zeros(len(data))\n",
        "    for t in range(start_cal, end_cal + 1):\n",
        "        # Trajectory matrix\n",
        "        start_tra = t - w - k + 1\n",
        "        end_tra = t - w\n",
        "        tra_matrix = extract_matrix(data, start_tra, end_tra, w)\n",
        "\n",
        "        # Test matrix\n",
        "        start_test = start_tra + L\n",
        "        end_test = end_tra + L\n",
        "        test_matrix = extract_matrix(data, start_test, end_test, w)\n",
        "\n",
        "        # Singular value decomposition(SVD)\n",
        "        U_tra, _, _  = np.linalg.svd(tra_matrix, full_matrices=False)\n",
        "        U_test, _, _ = np.linalg.svd(test_matrix, full_matrices=False)\n",
        "        U_tra_m  = U_tra[:, :m]\n",
        "        U_test_m = U_test[:, :m]\n",
        "        s = np.linalg.svd(np.dot(U_tra_m.T, U_test_m), full_matrices=False, compute_uv=False)\n",
        "        change_scores[t] = 1 - s[0]\n",
        "\n",
        "    return change_scores"
      ],
      "execution_count": null,
      "outputs": []
    },
    {
      "cell_type": "code",
      "metadata": {
        "id": "FfsLuDou9wR4"
      },
      "source": [
        "def getdata():\n",
        "  !wget \"www.dropbox.com/s/x3fmb9mxr4xkip3/qtdbsel102.txt\" #ローカルにコピーしてくる\n",
        "  LEN=3000  #分析区間\n",
        "\n",
        "  SP=0         #学習用データの開始点\n",
        "  AP=3000   #テスト用データの開始点　個のデータの場合 4250ポイント付近に異常がある\n",
        "  data = np.loadtxt(\"qtdbsel102.txt\",delimiter=\"\\t\")\n",
        "  print(\"データ数:\",data.shape[0],\"  次元数:\",data.shape[1])\n",
        "\n",
        "  #元データは3次元の時系列，3次のデータ(indexとしては2)を指定して学習/テストデータに分割\n",
        "  train_org = data[SP:SP+LEN, 2]      #学習用データとして 1～2999サンプル区間を使用\n",
        "  test_org  = data[AP:AP+LEN, 2]    #テスト用データとして3000～5999サンプルを使用\n",
        "  \n",
        "  #x軸\n",
        "  x=np.arange(SP,SP+LEN)\n",
        "\n",
        "  return x, train_org, test_org"
      ],
      "execution_count": null,
      "outputs": []
    },
    {
      "cell_type": "code",
      "metadata": {
        "id": "j59MPluK9wR4"
      },
      "source": [
        "x, train_org, test_org = getdata()"
      ],
      "execution_count": null,
      "outputs": []
    },
    {
      "cell_type": "code",
      "metadata": {
        "id": "TGzFwwFC9wR6"
      },
      "source": [
        "change_scores = sst(test_org, 50)"
      ],
      "execution_count": null,
      "outputs": []
    },
    {
      "cell_type": "code",
      "metadata": {
        "id": "thcZSPcF9wR6"
      },
      "source": [
        "plt.plot(test_org)\n",
        "plt.plot(change_scores*10000)\n",
        "plt"
      ],
      "execution_count": null,
      "outputs": []
    },
    {
      "cell_type": "code",
      "metadata": {
        "id": "DJ-MWq6h9wR6"
      },
      "source": [
        "plt.plot(test_org,label=\"test\")\r\n",
        "plt.plot(change_scores*10000,label=\"change_score\")\r\n",
        "plt.title(\"change score on testdata\")\r\n",
        "plt.legend()\r\n",
        "plt.show()"
      ],
      "execution_count": null,
      "outputs": []
    },
    {
      "cell_type": "code",
      "metadata": {
        "id": "Oz08uAVZ-UCL"
      },
      "source": [
        ""
      ],
      "execution_count": null,
      "outputs": []
    }
  ]
}