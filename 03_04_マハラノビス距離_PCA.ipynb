{
  "nbformat": 4,
  "nbformat_minor": 0,
  "metadata": {
    "kernelspec": {
      "display_name": "Python 3",
      "language": "python",
      "name": "python3"
    },
    "language_info": {
      "codemirror_mode": {
        "name": "ipython",
        "version": 3
      },
      "file_extension": ".py",
      "mimetype": "text/x-python",
      "name": "python",
      "nbconvert_exporter": "python",
      "pygments_lexer": "ipython3",
      "version": "3.7.3"
    },
    "colab": {
      "name": "03_04_マハラノビス距離_PCA.ipynb",
      "provenance": [],
      "include_colab_link": true
    }
  },
  "cells": [
    {
      "cell_type": "markdown",
      "metadata": {
        "id": "view-in-github",
        "colab_type": "text"
      },
      "source": [
        "<a href=\"https://colab.research.google.com/github/hamagami/anomaly-detection/blob/main/03_04_%E3%83%9E%E3%83%8F%E3%83%A9%E3%83%8E%E3%83%93%E3%82%B9%E8%B7%9D%E9%9B%A2_PCA.ipynb\" target=\"_parent\"><img src=\"https://colab.research.google.com/assets/colab-badge.svg\" alt=\"Open In Colab\"/></a>"
      ]
    },
    {
      "cell_type": "markdown",
      "metadata": {
        "id": "iqkaEOEJ8TZe"
      },
      "source": [
        "# マハラノビス距離による異常検知\n",
        "各軸の相関を正規化することによって，パラメータ間の依存関係をキャンセルした距離で評価する．同様のことはPCAでも可能だが，結果が若干異なる\n",
        "\n"
      ]
    },
    {
      "cell_type": "code",
      "metadata": {
        "id": "kmkq1i4o8TZf"
      },
      "source": [
        "from scipy.spatial import distance #様々な距離関数のライブラリ https://docs.scipy.org/doc/scipy/reference/spatial.distance.html\n",
        "from sklearn.decomposition import PCA #PCA  https://scikit-learn.org/stable/modules/generated/sklearn.decomposition.PCA.html\n",
        "import matplotlib.pyplot as plt\n",
        "import numpy as np"
      ],
      "execution_count": null,
      "outputs": []
    },
    {
      "cell_type": "markdown",
      "metadata": {
        "id": "zXQm5Ly68TZf"
      },
      "source": [
        "## ダミーデータの作成"
      ]
    },
    {
      "cell_type": "code",
      "metadata": {
        "scrolled": true,
        "id": "K0G5ysD38TZf"
      },
      "source": [
        "dnum=1000\n",
        "mean = np.array([0, 0]) # 平均\n",
        "cov = np.array([[1, 0.7],[0.7, 2]]) # 共分散行列 わざと少し偏らせたダミーデータ\n",
        "x, y = np.random.multivariate_normal(mean, cov, dnum).T #多変量正規分布に従う乱数を生成\n",
        "plt.xlim(-5,5)\n",
        "plt.ylim(-5,5)\n",
        "plt.plot(x,y,\"x\")\n",
        "plt.show()"
      ],
      "execution_count": null,
      "outputs": []
    },
    {
      "cell_type": "markdown",
      "metadata": {
        "id": "cYAK48UZ8TZg"
      },
      "source": [
        "## ダミーデータをそのままつかって，平均値からの距離をもとに異常を判定する"
      ]
    },
    {
      "cell_type": "code",
      "metadata": {
        "id": "nTtYEXUj8TZg"
      },
      "source": [
        "th= 3 #ここは適宜決定\n",
        "ano=[]\n",
        "for i in range(dnum):\n",
        "# 平均値からの距離をもとに閾値を超えるサンプルを見つける\n",
        "    d=distance.euclidean([x[i], y[i]],mean)\n",
        "    if d >=th:\n",
        "        ano.append([x[i], y[i]])\n",
        "ano = np.array(ano)\n",
        "plt.xlim(-5,5)\n",
        "plt.ylim(-5,5)\n",
        "plt.plot(x,y,\"x\",label=\"original\")\n",
        "plt.plot(ano.T[0], ano.T[1],\"o\",label=\"anomaly\")\n",
        "plt.title(\"AD by simple distance from the mean\")\n",
        "plt.legend()\n",
        "plt.show() #単純に距離だけでは長径側に偏った異常検知になってしまう．．．"
      ],
      "execution_count": null,
      "outputs": []
    },
    {
      "cell_type": "markdown",
      "metadata": {
        "id": "6sfrsCf88TZg"
      },
      "source": [
        "## マハラノビス距離を求めて，閾値を超えるサンプルを異常とみなす"
      ]
    },
    {
      "cell_type": "code",
      "metadata": {
        "id": "5_C5QZTJ8TZg"
      },
      "source": [
        "th= 2.0 #ここは適宜\n",
        "ano=[]\n",
        "for i in range(dnum):\n",
        "# データx, 平均値mean, 共分散行列の逆行列np.linalg.pinv(cov) から距離を計算\n",
        "    d=distance.mahalanobis([x[i], y[i]], mean, np.linalg.pinv(cov))\n",
        "    if d >=th:\n",
        "        ano.append([x[i], y[i]])\n",
        "ano = np.array(ano)\n",
        "plt.xlim(-5,5)\n",
        "plt.ylim(-5,5)\n",
        "plt.plot(x,y,\"x\",label=\"original\")\n",
        "plt.plot(ano.T[0], ano.T[1],\"o\",label=\"anomaly\")\n",
        "plt.title(\"AD by mahalanobis distance\")\n",
        "plt.legend()\n",
        "plt.show() #分布の周辺に異常値が見つかる"
      ],
      "execution_count": null,
      "outputs": []
    },
    {
      "cell_type": "markdown",
      "metadata": {
        "id": "PkjmMc6J8TZg"
      },
      "source": [
        "## PCAでサンプルを直交化する"
      ]
    },
    {
      "cell_type": "code",
      "metadata": {
        "id": "EqQ5ReT58TZg"
      },
      "source": [
        "orgdata=np.array([x,y])\n",
        "pca=PCA(2)\n",
        "feature = pca.fit(orgdata.T)\n",
        "# データを主成分空間に写像\n",
        "feature = pca.transform(orgdata.T)\n",
        "plt.xlim(-5,5)\n",
        "plt.ylim(-5,5)\n",
        "plt.plot(x,y,\"x\",label=\"original\")\n",
        "plt.plot(feature.T[0],feature.T[1],\".\",label=\"PCA\")\n",
        "plt.title(\"PCA\")\n",
        "plt.legend()\n",
        "plt.show()\n",
        "# 直交化することによりx軸, y軸に沿った分布に変換できる"
      ],
      "execution_count": null,
      "outputs": []
    },
    {
      "cell_type": "markdown",
      "metadata": {
        "id": "Z4bzTIeY8TZg"
      },
      "source": [
        "## PCAで求めた結果に対してマハラノビス距離を求める"
      ]
    },
    {
      "cell_type": "code",
      "metadata": {
        "id": "TuMO4o2n8TZg"
      },
      "source": [
        "#PCAに変換した分布パラメータを求めておく\n",
        "mean2=np.mean(feature,axis=0)\n",
        "cov2=np.cov(feature,rowvar=0,)\n",
        "print(\"mean=\",mean2)\n",
        "print(\"cov=\",cov2)\n",
        "pcax=(feature.T[0]-mean2[0])/cov2[0,0]\n",
        "pcay=(feature.T[1]-mean2[1])/cov2[1,1]\n",
        "plt.plot(pcax,pcay,\".\")"
      ],
      "execution_count": null,
      "outputs": []
    },
    {
      "cell_type": "code",
      "metadata": {
        "id": "nslU6HEw8TZg"
      },
      "source": [
        "th= 2.0 #ここは適宜\n",
        "ano=[]\n",
        "flag=[]\n",
        "print(np.mean(pcax),np.mean(pcay))\n",
        "for i in range(dnum):\n",
        "# 平均値からの距離をもとに閾値を超えるサンプルを見つける\n",
        "    d=distance.euclidean([pcax[i], pcay[i]], [np.mean(pcax),np.mean(pcay)])\n",
        "    if d >=th:\n",
        "        ano.append([pcax[i], pcay[i]])\n",
        "        flag.append(1)\n",
        "    else:\n",
        "        flag.append(0)\n",
        "ano = np.array(ano)\n",
        "plt.xlim(-5,5)\n",
        "plt.ylim(-5,5)\n",
        "plt.plot(pcax,pcay,\"x\",label=\"originalPCA\")\n",
        "plt.plot(ano.T[0], ano.T[1],\"o\",label=\"anomaly\")\n",
        "plt.title(\"AD by PCA distance\")\n",
        "plt.show()\n",
        "\n",
        "anox=x[(np.array(flag)==1)]\n",
        "anoy=y[(np.array(flag)==1)]\n",
        "\n",
        "plt.plot(x,y,\"x\",label=\"original\")\n",
        "plt.plot(anox,anoy,\"o\",label=\"anomaly\")\n",
        "plt.show()"
      ],
      "execution_count": null,
      "outputs": []
    },
    {
      "cell_type": "code",
      "metadata": {
        "id": "ltbux_e-8TZh"
      },
      "source": [
        ""
      ],
      "execution_count": null,
      "outputs": []
    },
    {
      "cell_type": "code",
      "metadata": {
        "id": "9eo6rgOm8TZh"
      },
      "source": [
        ""
      ],
      "execution_count": null,
      "outputs": []
    }
  ]
}