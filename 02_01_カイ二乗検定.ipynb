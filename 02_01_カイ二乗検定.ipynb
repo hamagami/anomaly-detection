{
  "nbformat": 4,
  "nbformat_minor": 0,
  "metadata": {
    "kernelspec": {
      "display_name": "Python 3",
      "language": "python",
      "name": "python3"
    },
    "language_info": {
      "codemirror_mode": {
        "name": "ipython",
        "version": 3
      },
      "file_extension": ".py",
      "mimetype": "text/x-python",
      "name": "python",
      "nbconvert_exporter": "python",
      "pygments_lexer": "ipython3",
      "version": "3.7.3"
    },
    "colab": {
      "name": "02_01_T2検定.ipynb",
      "provenance": [],
      "include_colab_link": true
    }
  },
  "cells": [
    {
      "cell_type": "markdown",
      "metadata": {
        "id": "view-in-github",
        "colab_type": "text"
      },
      "source": [
        "<a href=\"https://colab.research.google.com/github/hamagami/anomaly-detection/blob/main/02_01_%E3%82%AB%E3%82%A4%E4%BA%8C%E4%B9%97%E6%A4%9C%E5%AE%9A.ipynb\" target=\"_parent\"><img src=\"https://colab.research.google.com/assets/colab-badge.svg\" alt=\"Open In Colab\"/></a>"
      ]
    },
    {
      "cell_type": "markdown",
      "metadata": {
        "id": "UZGwYhT67QTo"
      },
      "source": [
        "# カイ二乗検定による異常検知\r\n",
        "得られるデータがある分布をなしているとわかっている場合は，注目するデータが全体の中でどれくらい異質な存在かを厳密に評価することができます．特に，独立変数が正規分布の場合の異常度はカイ二乗分布に従うことがわかっています．この性質を利用して，得られたサンプルの異常度を厳密に評価できます．\r\n"
      ]
    },
    {
      "cell_type": "code",
      "metadata": {
        "id": "GhDd02EB7JpT"
      },
      "source": [
        "import matplotlib.pyplot as plt \n",
        "import numpy as np                \n",
        "from scipy.stats import norm  #正規分布\n",
        "from scipy.stats import chi2  #カイ二乗分布"
      ],
      "execution_count": null,
      "outputs": []
    },
    {
      "cell_type": "markdown",
      "metadata": {
        "id": "cpYhG5B4n5M-"
      },
      "source": [
        "パラメータから正規分布データを作成しておく"
      ]
    },
    {
      "cell_type": "code",
      "metadata": {
        "id": "UL1p_4DC7JpU"
      },
      "source": [
        "mean=3.15 #平均値\n",
        "var=2.114 #分散\n",
        "dnum=1000 #データ数\n",
        "data=np.random.normal(mean, var, dnum)"
      ],
      "execution_count": null,
      "outputs": []
    },
    {
      "cell_type": "code",
      "metadata": {
        "id": "r7uunteT7JpV"
      },
      "source": [
        "param = norm.fit(data) #dataに対して正規分布のフィッティングを試してみる\n",
        "x = np.linspace(-5,12,100) \n",
        "pdf_fitted = norm.pdf(x, loc=param[0], scale=param[1]) # "
      ],
      "execution_count": null,
      "outputs": []
    },
    {
      "cell_type": "code",
      "metadata": {
        "id": "u7g3XSs7pPjN"
      },
      "source": [
        "plt.hist(data,bins=100,density=1)\n",
        "plt.plot(x,pdf_fitted)\n",
        "plt.show()  #生成したdataがちゃんと正規分布に沿っていることを確認"
      ],
      "execution_count": null,
      "outputs": []
    },
    {
      "cell_type": "markdown",
      "metadata": {
        "id": "VD_vrA1UqJjt"
      },
      "source": [
        "作成したデータのそれぞれに対してカイ二乗分布による異常度の評価を行う"
      ]
    },
    {
      "cell_type": "code",
      "metadata": {
        "id": "Dnd8kijisiVB"
      },
      "source": [
        "# 様々なカイ二乗分布の確認\n",
        "x = np.linspace(0,20,100) # x軸の値を作成\n",
        "for f in range(1,5):\n",
        "  chi_2 = chi2.pdf(x, f, scale=1) # 自由度f, スケール因子1のχ2乗分布　≒ N>>1のときの自由度(f, N-1)のF分布\n",
        "  plt.plot(x,chi_2,label=\"df=\"+str(f)) # χ2乗分布の表示\n",
        "plt.legend()\n",
        "plt.show()\n",
        "for f in range(6,10):\n",
        "  chi_2 = chi2.pdf(x, f, scale=1) # 自由度f, スケール因子1のχ2乗分布　≒ N>>1のときの自由度(f, N-1)のF分布\n",
        "  plt.plot(x,chi_2,label=\"df=\"+str(f)) # χ2乗分布の表示\n",
        "plt.legend()\n",
        "plt.show()\n",
        "# 自由度kが増えると次第に正規分布に近づく"
      ],
      "execution_count": null,
      "outputs": []
    },
    {
      "cell_type": "code",
      "metadata": {
        "id": "rBwValTZsgge"
      },
      "source": [
        "th_prob=0.95 #95%までを正常とする\n",
        "th  = chi2.ppf(th_prob, 1, scale=1) #閾値を求める。自由度１の場合は3.841\n",
        "\n",
        "x = np.linspace(0,5,100) # x軸の値を作成\n",
        "chi_2 = chi2.pdf(x, 1, scale=1) # 自由度1, スケール因子1のχ2乗分布　≒ N>>1のときの自由度(1, N-1)のF分布\n",
        "xano=x[x> th]\n",
        "ano=chi_2[x> th]\n",
        "\n",
        "plt.plot(x,chi_2) # χ2乗分布の表示\n",
        "plt.fill_between(xano,ano,color=\"red\")\n",
        "plt.title(\"Chisquare\")\n",
        "plt.xlabel(\"Abnomarity\")\n",
        "plt.ylabel(\"Probability Density Function (PDF)\")\n",
        "plt.show()"
      ],
      "execution_count": null,
      "outputs": []
    },
    {
      "cell_type": "code",
      "metadata": {
        "id": "2rYQWLzn7JpV"
      },
      "source": [
        "#dataと　閾値:th\n",
        "def predict(X, param, th):\n",
        "    a = ((X - param[0])/param[1])**2 # あらかじめ求めておいた平均と分散から標準化をしておく．自由度1のカイ2乗分布は正規分布の2乗とほぼ等価\n",
        "    pred = np.zeros_like(a) # 予測したラベル（すべて0（悪性）として初期化）\n",
        "    pred[a <= th] = 1 # 異常値が閾値を下回る場合は正常\n",
        "    return pred # 予測を返す"
      ],
      "execution_count": null,
      "outputs": []
    },
    {
      "cell_type": "code",
      "metadata": {
        "id": "c4gcYUV37JpV"
      },
      "source": [
        "\n",
        "p= predict(data,param,th) #判定結果\n",
        "ano=data[p==0] #結果が0(異常）だけを抽出"
      ],
      "execution_count": null,
      "outputs": []
    },
    {
      "cell_type": "code",
      "metadata": {
        "id": "GMb8UQ6W7JpV"
      },
      "source": [
        "plt.plot(data,linestyle='None',marker=\".\")\n",
        "plt.plot(ano,linestyle='None',marker=\".\")\n",
        "plt.show()\n",
        "plt.hist(data,bins=100,label=\"Normal(\"+str(th_prob)+\")\")\n",
        "plt.hist(ano,bins=100,label=\"Anomaly(\"+str(1.0-th_prob)+\")\")\n",
        "plt.legend()\n",
        "\n",
        "plt.show()"
      ],
      "execution_count": null,
      "outputs": []
    },
    {
      "cell_type": "code",
      "metadata": {
        "id": "cKvsDtA67JpV"
      },
      "source": [
        ""
      ],
      "execution_count": null,
      "outputs": []
    },
    {
      "cell_type": "code",
      "metadata": {
        "id": "T-77idJ07JpV"
      },
      "source": [
        ""
      ],
      "execution_count": null,
      "outputs": []
    }
  ]
}