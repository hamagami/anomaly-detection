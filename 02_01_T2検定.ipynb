{
  "nbformat": 4,
  "nbformat_minor": 0,
  "metadata": {
    "kernelspec": {
      "display_name": "Python 3",
      "language": "python",
      "name": "python3"
    },
    "language_info": {
      "codemirror_mode": {
        "name": "ipython",
        "version": 3
      },
      "file_extension": ".py",
      "mimetype": "text/x-python",
      "name": "python",
      "nbconvert_exporter": "python",
      "pygments_lexer": "ipython3",
      "version": "3.7.3"
    },
    "colab": {
      "name": "02_01_T2検定.ipynb",
      "provenance": [],
      "include_colab_link": true
    }
  },
  "cells": [
    {
      "cell_type": "markdown",
      "metadata": {
        "id": "view-in-github",
        "colab_type": "text"
      },
      "source": [
        "<a href=\"https://colab.research.google.com/github/hamagami/anomaly-detection/blob/main/02_01_T2%E6%A4%9C%E5%AE%9A.ipynb\" target=\"_parent\"><img src=\"https://colab.research.google.com/assets/colab-badge.svg\" alt=\"Open In Colab\"/></a>"
      ]
    },
    {
      "cell_type": "markdown",
      "metadata": {
        "id": "UZGwYhT67QTo"
      },
      "source": [
        "# カイ二乗検定による異常検知"
      ]
    },
    {
      "cell_type": "code",
      "metadata": {
        "id": "GhDd02EB7JpT"
      },
      "source": [
        "import matplotlib.pyplot as plt\n",
        "import numpy as np\n",
        "from scipy.stats import norm\n",
        "from scipy.stats import chi2"
      ],
      "execution_count": null,
      "outputs": []
    },
    {
      "cell_type": "code",
      "metadata": {
        "id": "UL1p_4DC7JpU"
      },
      "source": [
        "mean=3.15\n",
        "var=2.114\n",
        "dnum=1000\n",
        "data=np.random.normal(mean, var, dnum)"
      ],
      "execution_count": null,
      "outputs": []
    },
    {
      "cell_type": "code",
      "metadata": {
        "id": "r7uunteT7JpV"
      },
      "source": [
        "param = norm.fit(data) \n",
        "x = np.linspace(-5,12,100) \n",
        "pdf_fitted = norm.pdf(x, loc=param[0], scale=param[1]) # "
      ],
      "execution_count": null,
      "outputs": []
    },
    {
      "cell_type": "code",
      "metadata": {
        "id": "vpfNlbfS7JpV"
      },
      "source": [
        "plt.hist(data,bins=100,density=1)\n",
        "plt.plot(x,pdf_fitted)\n",
        "plt.show()"
      ],
      "execution_count": null,
      "outputs": []
    },
    {
      "cell_type": "code",
      "metadata": {
        "id": "IeNyOrXH7JpV"
      },
      "source": [
        "x = np.linspace(0,5,100) # x軸の値を作成\n",
        "chi_2 = chi2.pdf(x, 1, scale=1) # 自由度1, スケール因子1のχ2乗分布\n",
        "plt.plot(x,chi_2) # χ2乗分布の表示\n",
        "plt.title(\"Chisquare\")\n",
        "plt.xlabel(\"Abnomarity\")\n",
        "plt.ylabel(\"Probability Density Function (PDF)\")\n",
        "plt.show()"
      ],
      "execution_count": null,
      "outputs": []
    },
    {
      "cell_type": "code",
      "metadata": {
        "id": "2rYQWLzn7JpV"
      },
      "source": [
        "def predict(X, param, th):\n",
        "    a = ((X - param[0])/param[1])**2 # 異常度の計算\n",
        "    pred = np.zeros_like(a) # 予測したラベル（すべて0（悪性）として初期化）\n",
        "    pred[a <= th] = 1 # 異常値が閾値を下回る場合は、ラベルを1（良性）とする\n",
        "    return pred # 予測を返す"
      ],
      "execution_count": null,
      "outputs": []
    },
    {
      "cell_type": "code",
      "metadata": {
        "id": "c4gcYUV37JpV"
      },
      "source": [
        "th_prob=0.95\n",
        "anop  = chi2.ppf(th_prob, 1, scale=1) \n",
        "print(\"prob=\",th_prob,\">>> ch2=\",anop)\n",
        "p= predict(data,param,anop)\n",
        "ano=data[p==0]"
      ],
      "execution_count": null,
      "outputs": []
    },
    {
      "cell_type": "code",
      "metadata": {
        "id": "GMb8UQ6W7JpV"
      },
      "source": [
        "plt.hist(data,bins=100)\n",
        "plt.hist(ano,bins=100)\n",
        "plt.show()"
      ],
      "execution_count": null,
      "outputs": []
    },
    {
      "cell_type": "code",
      "metadata": {
        "id": "cKvsDtA67JpV"
      },
      "source": [
        ""
      ],
      "execution_count": null,
      "outputs": []
    },
    {
      "cell_type": "code",
      "metadata": {
        "id": "T-77idJ07JpV"
      },
      "source": [
        ""
      ],
      "execution_count": null,
      "outputs": []
    }
  ]
}