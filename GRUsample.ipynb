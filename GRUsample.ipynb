{
  "nbformat": 4,
  "nbformat_minor": 0,
  "metadata": {
    "kernelspec": {
      "display_name": "Python 3",
      "language": "python",
      "name": "python3"
    },
    "language_info": {
      "codemirror_mode": {
        "name": "ipython",
        "version": 3
      },
      "file_extension": ".py",
      "mimetype": "text/x-python",
      "name": "python",
      "nbconvert_exporter": "python",
      "pygments_lexer": "ipython3",
      "version": "3.7.3"
    },
    "colab": {
      "name": "GRUsample.ipynb",
      "provenance": []
    },
    "accelerator": "GPU"
  },
  "cells": [
    {
      "cell_type": "markdown",
      "metadata": {
        "id": "YOjDO29k-ugJ"
      },
      "source": [
        "# GRU(LSTM）による異常検知"
      ]
    },
    {
      "cell_type": "code",
      "metadata": {
        "id": "9yO2bax--ugO"
      },
      "source": [
        "import numpy as np\n",
        "import matplotlib.pyplot as plt\n",
        "from keras.models import Sequential\n",
        "from keras.layers import Dense, GRU,LSTM"
      ],
      "execution_count": null,
      "outputs": []
    },
    {
      "cell_type": "code",
      "metadata": {
        "id": "voldeoC9-ugP"
      },
      "source": [
        "from scipy import signal\n",
        "#ヒストグラム　\n",
        "def gethist(lst,range=(0,10),bins=25):\n",
        "    win= signal.hann(len(lst)) \n",
        "    hist, bins= np.histogram(win*lst, bins, range)\n",
        "    return hist, bins"
      ],
      "execution_count": null,
      "outputs": []
    },
    {
      "cell_type": "code",
      "metadata": {
        "id": "dBlZo8Li-ugQ"
      },
      "source": [
        "def segdata(lst, dim): #lst:１次元系列　dim:セグメントの幅\n",
        "    segs = np.empty((0,dim), float)#0×dimの空配列\n",
        "    hists = np.empty((0,25), float)#0×dimの空配列\n",
        "    for i in range(lst.size - dim + 1):#1つづつずらしながらセグメントをつくっている。最後のセグメントの開始点は lst.size-dim\n",
        "        hist,bins= gethist(lst[i:i+dim])\n",
        "        \n",
        "        seg=np.array(lst[i:i+dim][::-1].reshape((1,-1))) #セグメントの切り出し，時系列反転，appendのための2次ベクトル化\n",
        "        hist=hist.reshape((1,-1))\n",
        "        hists = np.append(hists,hist,axis=0)\n",
        "        segs = np.append(segs,seg,axis=0)\n",
        "\n",
        "    return segs, hists"
      ],
      "execution_count": null,
      "outputs": []
    },
    {
      "cell_type": "code",
      "metadata": {
        "id": "3f71F_PQ-ugQ"
      },
      "source": [
        "from scipy import fftpack\n",
        "from scipy import signal\n",
        "def getdata():\n",
        "  !wget \"www.dropbox.com/s/x3fmb9mxr4xkip3/qtdbsel102.txt\" #ローカルにコピーしてくる\n",
        "  LEN=3000  #分析区間\n",
        "\n",
        "  SP=0         #学習用データの開始点\n",
        "  AP=3000   #テスト用データの開始点　個のデータの場合 4250ポイント付近に異常がある\n",
        "  data = np.loadtxt(\"qtdbsel102.txt\",delimiter=\"\\t\")\n",
        "  print(\"データ数:\",data.shape[0],\"  次元数:\",data.shape[1])\n",
        "\n",
        "  #元データは3次元の時系列，3次のデータ(indexとしては2)を指定して学習/テストデータに分割\n",
        "  train_org = data[SP:SP+LEN, 2]      #学習用データとして 1～2999サンプル区間を使用\n",
        "  test_org  = data[AP:AP+LEN, 2]    #テスト用データとして3000～5999サンプルを使用\n",
        "  \n",
        "  #x軸\n",
        "  x=np.arange(SP,SP+LEN)\n",
        "\n",
        "  return x, train_org, test_org"
      ],
      "execution_count": null,
      "outputs": []
    },
    {
      "cell_type": "code",
      "metadata": {
        "id": "2mxgvgir-ugR"
      },
      "source": [
        "x, train_org, test_org = getdata()\n",
        "\n",
        "plt.plot(x,train_org)\n",
        "plt.title(\"train\")\n",
        "plt.legend()\n",
        "plt.show()\n",
        "plt.plot(x,test_org)\n",
        "plt.title(\"test with anomaly\")\n",
        "plt.legend()\n",
        "plt.show()"
      ],
      "execution_count": null,
      "outputs": []
    },
    {
      "cell_type": "code",
      "metadata": {
        "id": "ERESAwp9-ugS"
      },
      "source": [
        "x_base = train_org\n",
        "a_base = test_org\n",
        "\n",
        "timesteps = 300 #過去300サンプルに対して次の１サンプルを予測する\n",
        "\n",
        "x = np.empty(0, dtype=np.float32)\n",
        "a = np.empty(0, dtype=np.float32)\n",
        "\n",
        "for i in range(1):\n",
        "    x = np.hstack([x, x_base])\n",
        "\n",
        "xdata = np.array([x[i:i+timesteps] for i in range(len(x)-timesteps)])\n",
        "xdata = xdata.reshape(xdata.shape[0], timesteps, -1)\n",
        "ydata = x[timesteps:].reshape(xdata.shape[0], -1)\n",
        "\n",
        "\n",
        "for i in range(1):\n",
        "    a = np.hstack([a, a_base])\n",
        "adata = np.array([a[i:i+timesteps] for i in range(len(a)-timesteps)])\n",
        "adata = adata.reshape(adata.shape[0], timesteps, -1)\n",
        "\n",
        "zdata = a[timesteps:].reshape(adata.shape[0], -1)"
      ],
      "execution_count": null,
      "outputs": []
    },
    {
      "cell_type": "code",
      "metadata": {
        "id": "4KYNV48h-ugS"
      },
      "source": [
        "actfunc = \"tanh\"\n",
        "\n",
        "model = Sequential()\n",
        "model.add(LSTM(10, activation=actfunc, \n",
        "               batch_input_shape=(None, timesteps, 1)))\n",
        "model.add(Dense(10, activation=actfunc))\n",
        "model.add(Dense(1))"
      ],
      "execution_count": null,
      "outputs": []
    },
    {
      "cell_type": "code",
      "metadata": {
        "id": "2Vft2Ixs-ugS"
      },
      "source": [
        "model.compile(optimizer='sgd',\n",
        "              loss='mean_squared_error')\n",
        "\n",
        "history = model.fit(xdata, ydata,\n",
        "                    batch_size=100,\n",
        "                    epochs=200,\n",
        "                    verbose=1)"
      ],
      "execution_count": null,
      "outputs": []
    },
    {
      "cell_type": "code",
      "metadata": {
        "scrolled": true,
        "id": "D4xwmBIP-ugS"
      },
      "source": [
        "pred = model.predict(xdata)\n",
        "plt.plot(ydata)\n",
        "plt.plot(pred)\n",
        "diff=abs(pred-ydata)\n",
        "outlier_rows = [i for i in range(len(diff)) if diff[i]>0.7]\n",
        "for c in outlier_rows:\n",
        "    plt.axvspan(c, c+timesteps, color = \"skyblue\")\n",
        "plt.show()\n",
        "\n",
        "pred = model.predict(adata)\n",
        "plt.plot(zdata)\n",
        "plt.plot(pred)\n",
        "diff=abs(pred-zdata)\n",
        "outlier_rows = [i for i in range(len(diff)) if diff[i]>0.7]\n",
        "for c in outlier_rows:\n",
        "    plt.axvspan(c, c+timesteps, color = \"coral\")\n",
        "plt.show()\n",
        "\n",
        "plt.show()\n",
        "\n",
        "\n",
        "#ig, ax = plt.subplots()\n",
        "#ax.plot(ydata[:3000, :].reshape(-1))\n",
        "#ax.plot(pred[:3000, :].reshape(-1))\n",
        "\n",
        "#plt.show()"
      ],
      "execution_count": null,
      "outputs": []
    },
    {
      "cell_type": "code",
      "metadata": {
        "id": "l-_MDkzC-ugT"
      },
      "source": [
        ""
      ],
      "execution_count": null,
      "outputs": []
    }
  ]
}